{
 "cells": [
  {
   "cell_type": "code",
   "execution_count": 15,
   "id": "initial_id",
   "metadata": {
    "collapsed": true,
    "ExecuteTime": {
     "end_time": "2023-09-11T05:05:03.916901100Z",
     "start_time": "2023-09-11T05:05:03.896920600Z"
    }
   },
   "outputs": [],
   "source": [
    "import pandas as pd\n",
    "import numpy as np"
   ]
  },
  {
   "cell_type": "code",
   "execution_count": 16,
   "outputs": [
    {
     "data": {
      "text/plain": "                       Timestamp           Nama              NIM  \\\n0   2023/09/06 11:51:23 AM GMT+7               R               1   \n1   2023/09/06 11:53:20 AM GMT+7               R               1   \n2   2023/09/06 11:56:47 AM GMT+7       Heksaloga       215314212   \n3   2023/09/06 11:58:36 AM GMT+7         unknown               0   \n4   2023/09/06 12:07:04 PM GMT+7               R               1   \n5   2023/09/06 12:08:10 PM GMT+7           Rahul       215151515   \n6    2023/09/06 1:04:58 PM GMT+7          Wenda        215314190   \n7    2023/09/07 7:54:39 PM GMT+7        Giacinta       215314211   \n8   2023/09/11 11:32:00 AM GMT+7  Prischia Ballo       215314166   \n9   2023/09/11 11:33:03 AM GMT+7       Adrianus   13040221130064   \n10  2023/09/11 11:48:40 AM GMT+7         Annaya        215314412   \n\n   Jenis Kelamin Tanggal Lahir          Kota                    Provinsi  \\\n0           Pria    2023-09-07             s                           d   \n1         Wanita    2023-09-07             s                           s   \n2           Pria    2023-09-06        Bantul               DI Yogyakarta   \n3         Wanita    2023-09-09         Yogja                          we   \n4           Pria    2023-10-27             s                           d   \n5         Wanita    2025-03-01  Penisvanilla              West Virginia    \n6         Wanita    2006-09-14        Medan               Sumatra utara    \n7         Wanita    2003-06-22    Yogyakarta  Daerah Istimewa Yogyakarta   \n8         Wanita    2004-04-20    Yogyakarta  Daerah Istimewa Yogyakarta   \n9           Pria    2002-12-27      Semarang                 Jawa Tengah   \n10        Wanita    2003-01-04   Kab. Serang                      Banten   \n\n   Kode POS  Jumlah pesanan Jeruk :  Jumlah pesanan Salak:   \\\n0         1                   -1.00                     0.0   \n1         1                    1.00                     0.0   \n2     55791                    1.00                     0.0   \n3     42441                    0.00                    23.0   \n4         1                    0.00                     0.0   \n5     69420                    2.00                     3.0   \n6    227323                    2.00                     4.0   \n7     55563                  100.00                    75.0   \n8     55584                    3.00                    10.0   \n9   forgor💀                    9.11                     3.0   \n10    42182                    5.00                     1.0   \n\n    Jumlah pesanan Rambutan:   Jumlah pesanan Kelengkeng :  \\\n0                         7.0                          NaN   \n1                         0.0                         10.0   \n2                         0.0                          0.0   \n3                         4.0                          0.0   \n4                     10000.0                          NaN   \n5                         4.0                          5.0   \n6                         1.0                          2.0   \n7                        20.0                         50.0   \n8                         7.0                          2.0   \n9                         9.6                          4.2   \n10                        2.0                          3.0   \n\n    Jumlah pesanan Blimbing : Harga Total  \n0                         NaN  engga tahu  \n1                         NaN      140000  \n2                        0.00       10000  \n3                       12.00      629000  \n4                         NaN   200000000  \n5                        0.00      210000  \n6                        3.00      177000  \n7                       34.00     3753000  \n8                        4.00      414000  \n9                        9.11      537570  \n10                       0.00      144000  ",
      "text/html": "<div>\n<style scoped>\n    .dataframe tbody tr th:only-of-type {\n        vertical-align: middle;\n    }\n\n    .dataframe tbody tr th {\n        vertical-align: top;\n    }\n\n    .dataframe thead th {\n        text-align: right;\n    }\n</style>\n<table border=\"1\" class=\"dataframe\">\n  <thead>\n    <tr style=\"text-align: right;\">\n      <th></th>\n      <th>Timestamp</th>\n      <th>Nama</th>\n      <th>NIM</th>\n      <th>Jenis Kelamin</th>\n      <th>Tanggal Lahir</th>\n      <th>Kota</th>\n      <th>Provinsi</th>\n      <th>Kode POS</th>\n      <th>Jumlah pesanan Jeruk :</th>\n      <th>Jumlah pesanan Salak:</th>\n      <th>Jumlah pesanan Rambutan:</th>\n      <th>Jumlah pesanan Kelengkeng :</th>\n      <th>Jumlah pesanan Blimbing :</th>\n      <th>Harga Total</th>\n    </tr>\n  </thead>\n  <tbody>\n    <tr>\n      <th>0</th>\n      <td>2023/09/06 11:51:23 AM GMT+7</td>\n      <td>R</td>\n      <td>1</td>\n      <td>Pria</td>\n      <td>2023-09-07</td>\n      <td>s</td>\n      <td>d</td>\n      <td>1</td>\n      <td>-1.00</td>\n      <td>0.0</td>\n      <td>7.0</td>\n      <td>NaN</td>\n      <td>NaN</td>\n      <td>engga tahu</td>\n    </tr>\n    <tr>\n      <th>1</th>\n      <td>2023/09/06 11:53:20 AM GMT+7</td>\n      <td>R</td>\n      <td>1</td>\n      <td>Wanita</td>\n      <td>2023-09-07</td>\n      <td>s</td>\n      <td>s</td>\n      <td>1</td>\n      <td>1.00</td>\n      <td>0.0</td>\n      <td>0.0</td>\n      <td>10.0</td>\n      <td>NaN</td>\n      <td>140000</td>\n    </tr>\n    <tr>\n      <th>2</th>\n      <td>2023/09/06 11:56:47 AM GMT+7</td>\n      <td>Heksaloga</td>\n      <td>215314212</td>\n      <td>Pria</td>\n      <td>2023-09-06</td>\n      <td>Bantul</td>\n      <td>DI Yogyakarta</td>\n      <td>55791</td>\n      <td>1.00</td>\n      <td>0.0</td>\n      <td>0.0</td>\n      <td>0.0</td>\n      <td>0.00</td>\n      <td>10000</td>\n    </tr>\n    <tr>\n      <th>3</th>\n      <td>2023/09/06 11:58:36 AM GMT+7</td>\n      <td>unknown</td>\n      <td>0</td>\n      <td>Wanita</td>\n      <td>2023-09-09</td>\n      <td>Yogja</td>\n      <td>we</td>\n      <td>42441</td>\n      <td>0.00</td>\n      <td>23.0</td>\n      <td>4.0</td>\n      <td>0.0</td>\n      <td>12.00</td>\n      <td>629000</td>\n    </tr>\n    <tr>\n      <th>4</th>\n      <td>2023/09/06 12:07:04 PM GMT+7</td>\n      <td>R</td>\n      <td>1</td>\n      <td>Pria</td>\n      <td>2023-10-27</td>\n      <td>s</td>\n      <td>d</td>\n      <td>1</td>\n      <td>0.00</td>\n      <td>0.0</td>\n      <td>10000.0</td>\n      <td>NaN</td>\n      <td>NaN</td>\n      <td>200000000</td>\n    </tr>\n    <tr>\n      <th>5</th>\n      <td>2023/09/06 12:08:10 PM GMT+7</td>\n      <td>Rahul</td>\n      <td>215151515</td>\n      <td>Wanita</td>\n      <td>2025-03-01</td>\n      <td>Penisvanilla</td>\n      <td>West Virginia</td>\n      <td>69420</td>\n      <td>2.00</td>\n      <td>3.0</td>\n      <td>4.0</td>\n      <td>5.0</td>\n      <td>0.00</td>\n      <td>210000</td>\n    </tr>\n    <tr>\n      <th>6</th>\n      <td>2023/09/06 1:04:58 PM GMT+7</td>\n      <td>Wenda</td>\n      <td>215314190</td>\n      <td>Wanita</td>\n      <td>2006-09-14</td>\n      <td>Medan</td>\n      <td>Sumatra utara</td>\n      <td>227323</td>\n      <td>2.00</td>\n      <td>4.0</td>\n      <td>1.0</td>\n      <td>2.0</td>\n      <td>3.00</td>\n      <td>177000</td>\n    </tr>\n    <tr>\n      <th>7</th>\n      <td>2023/09/07 7:54:39 PM GMT+7</td>\n      <td>Giacinta</td>\n      <td>215314211</td>\n      <td>Wanita</td>\n      <td>2003-06-22</td>\n      <td>Yogyakarta</td>\n      <td>Daerah Istimewa Yogyakarta</td>\n      <td>55563</td>\n      <td>100.00</td>\n      <td>75.0</td>\n      <td>20.0</td>\n      <td>50.0</td>\n      <td>34.00</td>\n      <td>3753000</td>\n    </tr>\n    <tr>\n      <th>8</th>\n      <td>2023/09/11 11:32:00 AM GMT+7</td>\n      <td>Prischia Ballo</td>\n      <td>215314166</td>\n      <td>Wanita</td>\n      <td>2004-04-20</td>\n      <td>Yogyakarta</td>\n      <td>Daerah Istimewa Yogyakarta</td>\n      <td>55584</td>\n      <td>3.00</td>\n      <td>10.0</td>\n      <td>7.0</td>\n      <td>2.0</td>\n      <td>4.00</td>\n      <td>414000</td>\n    </tr>\n    <tr>\n      <th>9</th>\n      <td>2023/09/11 11:33:03 AM GMT+7</td>\n      <td>Adrianus</td>\n      <td>13040221130064</td>\n      <td>Pria</td>\n      <td>2002-12-27</td>\n      <td>Semarang</td>\n      <td>Jawa Tengah</td>\n      <td>forgor💀</td>\n      <td>9.11</td>\n      <td>3.0</td>\n      <td>9.6</td>\n      <td>4.2</td>\n      <td>9.11</td>\n      <td>537570</td>\n    </tr>\n    <tr>\n      <th>10</th>\n      <td>2023/09/11 11:48:40 AM GMT+7</td>\n      <td>Annaya</td>\n      <td>215314412</td>\n      <td>Wanita</td>\n      <td>2003-01-04</td>\n      <td>Kab. Serang</td>\n      <td>Banten</td>\n      <td>42182</td>\n      <td>5.00</td>\n      <td>1.0</td>\n      <td>2.0</td>\n      <td>3.0</td>\n      <td>0.00</td>\n      <td>144000</td>\n    </tr>\n  </tbody>\n</table>\n</div>"
     },
     "execution_count": 16,
     "metadata": {},
     "output_type": "execute_result"
    }
   ],
   "source": [
    "# Load the CSV file into a DataFrame\n",
    "df = pd.read_csv('Toko Buah _MELON ;)_.csv', delimiter=',')\n",
    "df.head(20)"
   ],
   "metadata": {
    "collapsed": false,
    "ExecuteTime": {
     "end_time": "2023-09-11T05:05:03.976827100Z",
     "start_time": "2023-09-11T05:05:03.911836100Z"
    }
   },
   "id": "8d725979632309f5"
  },
  {
   "cell_type": "code",
   "execution_count": 17,
   "outputs": [
    {
     "data": {
      "text/plain": "                      Timestamp           Nama              NIM Jenis Kelamin  \\\n0  2023/09/06 11:51:23 AM GMT+7               R               1          Pria   \n1  2023/09/06 11:53:20 AM GMT+7               R               1        Wanita   \n2  2023/09/06 11:56:47 AM GMT+7       Heksaloga       215314212          Pria   \n3  2023/09/06 11:58:36 AM GMT+7         unknown               0        Wanita   \n4  2023/09/06 12:07:04 PM GMT+7               R               1          Pria   \n5  2023/09/06 12:08:10 PM GMT+7           Rahul       215151515        Wanita   \n6   2023/09/06 1:04:58 PM GMT+7          Wenda        215314190        Wanita   \n7   2023/09/07 7:54:39 PM GMT+7        Giacinta       215314211        Wanita   \n8  2023/09/11 11:32:00 AM GMT+7  Prischia Ballo       215314166        Wanita   \n9  2023/09/11 11:33:03 AM GMT+7       Adrianus   13040221130064          Pria   \n\n  Tanggal Lahir          Kota                    Provinsi Kode POS  \\\n0    2023-09-07             s                           d        1   \n1    2023-09-07             s                           s        1   \n2    2023-09-06        Bantul               DI Yogyakarta    55791   \n3    2023-09-09         Yogja                          we    42441   \n4    2023-10-27             s                           d        1   \n5    2025-03-01  Penisvanilla              West Virginia     69420   \n6    2006-09-14        Medan               Sumatra utara    227323   \n7    2003-06-22    Yogyakarta  Daerah Istimewa Yogyakarta    55563   \n8    2004-04-20    Yogyakarta  Daerah Istimewa Yogyakarta    55584   \n9    2002-12-27      Semarang                 Jawa Tengah  forgor💀   \n\n   Jumlah pesanan Jeruk :  Jumlah pesanan Salak:   Jumlah pesanan Rambutan:   \\\n0                   -1.00                     0.0                        7.0   \n1                    1.00                     0.0                        0.0   \n2                    1.00                     0.0                        0.0   \n3                    0.00                    23.0                        4.0   \n4                    0.00                     0.0                    10000.0   \n5                    2.00                     3.0                        4.0   \n6                    2.00                     4.0                        1.0   \n7                  100.00                    75.0                       20.0   \n8                    3.00                    10.0                        7.0   \n9                    9.11                     3.0                        9.6   \n\n   Jumlah pesanan Kelengkeng :  Jumlah pesanan Blimbing :  Harga Total  \n0                          NaN                        NaN          NaN  \n1                         10.0                        NaN     140000.0  \n2                          0.0                       0.00      10000.0  \n3                          0.0                      12.00     629000.0  \n4                          NaN                        NaN  200000000.0  \n5                          5.0                       0.00     210000.0  \n6                          2.0                       3.00     177000.0  \n7                         50.0                      34.00    3753000.0  \n8                          2.0                       4.00     414000.0  \n9                          4.2                       9.11     537570.0  ",
      "text/html": "<div>\n<style scoped>\n    .dataframe tbody tr th:only-of-type {\n        vertical-align: middle;\n    }\n\n    .dataframe tbody tr th {\n        vertical-align: top;\n    }\n\n    .dataframe thead th {\n        text-align: right;\n    }\n</style>\n<table border=\"1\" class=\"dataframe\">\n  <thead>\n    <tr style=\"text-align: right;\">\n      <th></th>\n      <th>Timestamp</th>\n      <th>Nama</th>\n      <th>NIM</th>\n      <th>Jenis Kelamin</th>\n      <th>Tanggal Lahir</th>\n      <th>Kota</th>\n      <th>Provinsi</th>\n      <th>Kode POS</th>\n      <th>Jumlah pesanan Jeruk :</th>\n      <th>Jumlah pesanan Salak:</th>\n      <th>Jumlah pesanan Rambutan:</th>\n      <th>Jumlah pesanan Kelengkeng :</th>\n      <th>Jumlah pesanan Blimbing :</th>\n      <th>Harga Total</th>\n    </tr>\n  </thead>\n  <tbody>\n    <tr>\n      <th>0</th>\n      <td>2023/09/06 11:51:23 AM GMT+7</td>\n      <td>R</td>\n      <td>1</td>\n      <td>Pria</td>\n      <td>2023-09-07</td>\n      <td>s</td>\n      <td>d</td>\n      <td>1</td>\n      <td>-1.00</td>\n      <td>0.0</td>\n      <td>7.0</td>\n      <td>NaN</td>\n      <td>NaN</td>\n      <td>NaN</td>\n    </tr>\n    <tr>\n      <th>1</th>\n      <td>2023/09/06 11:53:20 AM GMT+7</td>\n      <td>R</td>\n      <td>1</td>\n      <td>Wanita</td>\n      <td>2023-09-07</td>\n      <td>s</td>\n      <td>s</td>\n      <td>1</td>\n      <td>1.00</td>\n      <td>0.0</td>\n      <td>0.0</td>\n      <td>10.0</td>\n      <td>NaN</td>\n      <td>140000.0</td>\n    </tr>\n    <tr>\n      <th>2</th>\n      <td>2023/09/06 11:56:47 AM GMT+7</td>\n      <td>Heksaloga</td>\n      <td>215314212</td>\n      <td>Pria</td>\n      <td>2023-09-06</td>\n      <td>Bantul</td>\n      <td>DI Yogyakarta</td>\n      <td>55791</td>\n      <td>1.00</td>\n      <td>0.0</td>\n      <td>0.0</td>\n      <td>0.0</td>\n      <td>0.00</td>\n      <td>10000.0</td>\n    </tr>\n    <tr>\n      <th>3</th>\n      <td>2023/09/06 11:58:36 AM GMT+7</td>\n      <td>unknown</td>\n      <td>0</td>\n      <td>Wanita</td>\n      <td>2023-09-09</td>\n      <td>Yogja</td>\n      <td>we</td>\n      <td>42441</td>\n      <td>0.00</td>\n      <td>23.0</td>\n      <td>4.0</td>\n      <td>0.0</td>\n      <td>12.00</td>\n      <td>629000.0</td>\n    </tr>\n    <tr>\n      <th>4</th>\n      <td>2023/09/06 12:07:04 PM GMT+7</td>\n      <td>R</td>\n      <td>1</td>\n      <td>Pria</td>\n      <td>2023-10-27</td>\n      <td>s</td>\n      <td>d</td>\n      <td>1</td>\n      <td>0.00</td>\n      <td>0.0</td>\n      <td>10000.0</td>\n      <td>NaN</td>\n      <td>NaN</td>\n      <td>200000000.0</td>\n    </tr>\n    <tr>\n      <th>5</th>\n      <td>2023/09/06 12:08:10 PM GMT+7</td>\n      <td>Rahul</td>\n      <td>215151515</td>\n      <td>Wanita</td>\n      <td>2025-03-01</td>\n      <td>Penisvanilla</td>\n      <td>West Virginia</td>\n      <td>69420</td>\n      <td>2.00</td>\n      <td>3.0</td>\n      <td>4.0</td>\n      <td>5.0</td>\n      <td>0.00</td>\n      <td>210000.0</td>\n    </tr>\n    <tr>\n      <th>6</th>\n      <td>2023/09/06 1:04:58 PM GMT+7</td>\n      <td>Wenda</td>\n      <td>215314190</td>\n      <td>Wanita</td>\n      <td>2006-09-14</td>\n      <td>Medan</td>\n      <td>Sumatra utara</td>\n      <td>227323</td>\n      <td>2.00</td>\n      <td>4.0</td>\n      <td>1.0</td>\n      <td>2.0</td>\n      <td>3.00</td>\n      <td>177000.0</td>\n    </tr>\n    <tr>\n      <th>7</th>\n      <td>2023/09/07 7:54:39 PM GMT+7</td>\n      <td>Giacinta</td>\n      <td>215314211</td>\n      <td>Wanita</td>\n      <td>2003-06-22</td>\n      <td>Yogyakarta</td>\n      <td>Daerah Istimewa Yogyakarta</td>\n      <td>55563</td>\n      <td>100.00</td>\n      <td>75.0</td>\n      <td>20.0</td>\n      <td>50.0</td>\n      <td>34.00</td>\n      <td>3753000.0</td>\n    </tr>\n    <tr>\n      <th>8</th>\n      <td>2023/09/11 11:32:00 AM GMT+7</td>\n      <td>Prischia Ballo</td>\n      <td>215314166</td>\n      <td>Wanita</td>\n      <td>2004-04-20</td>\n      <td>Yogyakarta</td>\n      <td>Daerah Istimewa Yogyakarta</td>\n      <td>55584</td>\n      <td>3.00</td>\n      <td>10.0</td>\n      <td>7.0</td>\n      <td>2.0</td>\n      <td>4.00</td>\n      <td>414000.0</td>\n    </tr>\n    <tr>\n      <th>9</th>\n      <td>2023/09/11 11:33:03 AM GMT+7</td>\n      <td>Adrianus</td>\n      <td>13040221130064</td>\n      <td>Pria</td>\n      <td>2002-12-27</td>\n      <td>Semarang</td>\n      <td>Jawa Tengah</td>\n      <td>forgor💀</td>\n      <td>9.11</td>\n      <td>3.0</td>\n      <td>9.6</td>\n      <td>4.2</td>\n      <td>9.11</td>\n      <td>537570.0</td>\n    </tr>\n  </tbody>\n</table>\n</div>"
     },
     "execution_count": 17,
     "metadata": {},
     "output_type": "execute_result"
    }
   ],
   "source": [
    "df['Harga Total'] = pd.to_numeric(df['Harga Total'], errors='coerce')\n",
    "df.head(10)"
   ],
   "metadata": {
    "collapsed": false,
    "ExecuteTime": {
     "end_time": "2023-09-11T05:05:03.976827100Z",
     "start_time": "2023-09-11T05:05:03.937849200Z"
    }
   },
   "id": "426dc12ac86f3f03"
  },
  {
   "cell_type": "code",
   "execution_count": 18,
   "outputs": [
    {
     "data": {
      "text/plain": "                       Timestamp            Nama             NIM  \\\n1   2023/09/06 11:53:20 AM GMT+7               R               1   \n2   2023/09/06 11:56:47 AM GMT+7       Heksaloga       215314212   \n3   2023/09/06 11:58:36 AM GMT+7         unknown               0   \n4   2023/09/06 12:07:04 PM GMT+7               R               1   \n5   2023/09/06 12:08:10 PM GMT+7           Rahul       215151515   \n6    2023/09/06 1:04:58 PM GMT+7          Wenda        215314190   \n7    2023/09/07 7:54:39 PM GMT+7        Giacinta       215314211   \n8   2023/09/11 11:32:00 AM GMT+7  Prischia Ballo       215314166   \n9   2023/09/11 11:33:03 AM GMT+7       Adrianus   13040221130064   \n10  2023/09/11 11:48:40 AM GMT+7         Annaya        215314412   \n\n   Jenis Kelamin Tanggal Lahir          Kota                    Provinsi  \\\n1         Wanita    2023-09-07             s                           s   \n2           Pria    2023-09-06        Bantul               DI Yogyakarta   \n3         Wanita    2023-09-09         Yogja                          we   \n4           Pria    2023-10-27             s                           d   \n5         Wanita    2025-03-01  Penisvanilla              West Virginia    \n6         Wanita    2006-09-14        Medan               Sumatra utara    \n7         Wanita    2003-06-22    Yogyakarta  Daerah Istimewa Yogyakarta   \n8         Wanita    2004-04-20    Yogyakarta  Daerah Istimewa Yogyakarta   \n9           Pria    2002-12-27      Semarang                 Jawa Tengah   \n10        Wanita    2003-01-04   Kab. Serang                      Banten   \n\n   Kode POS  Jumlah pesanan Jeruk :  Jumlah pesanan Salak:  \\\n1         1                    1.00                    0.0   \n2     55791                    1.00                    0.0   \n3     42441                    0.00                   23.0   \n4         1                    0.00                    0.0   \n5     69420                    2.00                    3.0   \n6    227323                    2.00                    4.0   \n7     55563                  100.00                   75.0   \n8     55584                    3.00                   10.0   \n9   forgor💀                    9.11                    3.0   \n10    42182                    5.00                    1.0   \n\n    Jumlah pesanan Rambutan:  Jumlah pesanan Kelengkeng :  \\\n1                        0.0                         10.0   \n2                        0.0                          0.0   \n3                        4.0                          0.0   \n4                    10000.0                          0.0   \n5                        4.0                          5.0   \n6                        1.0                          2.0   \n7                       20.0                         50.0   \n8                        7.0                          2.0   \n9                        9.6                          4.2   \n10                       2.0                          3.0   \n\n    Jumlah pesanan Blimbing :  Harga Total  \n1                        0.00     140000.0  \n2                        0.00      10000.0  \n3                       12.00     629000.0  \n4                        0.00  200000000.0  \n5                        0.00     210000.0  \n6                        3.00     177000.0  \n7                       34.00    3753000.0  \n8                        4.00     414000.0  \n9                        9.11     537570.0  \n10                       0.00     144000.0  ",
      "text/html": "<div>\n<style scoped>\n    .dataframe tbody tr th:only-of-type {\n        vertical-align: middle;\n    }\n\n    .dataframe tbody tr th {\n        vertical-align: top;\n    }\n\n    .dataframe thead th {\n        text-align: right;\n    }\n</style>\n<table border=\"1\" class=\"dataframe\">\n  <thead>\n    <tr style=\"text-align: right;\">\n      <th></th>\n      <th>Timestamp</th>\n      <th>Nama</th>\n      <th>NIM</th>\n      <th>Jenis Kelamin</th>\n      <th>Tanggal Lahir</th>\n      <th>Kota</th>\n      <th>Provinsi</th>\n      <th>Kode POS</th>\n      <th>Jumlah pesanan Jeruk :</th>\n      <th>Jumlah pesanan Salak:</th>\n      <th>Jumlah pesanan Rambutan:</th>\n      <th>Jumlah pesanan Kelengkeng :</th>\n      <th>Jumlah pesanan Blimbing :</th>\n      <th>Harga Total</th>\n    </tr>\n  </thead>\n  <tbody>\n    <tr>\n      <th>1</th>\n      <td>2023/09/06 11:53:20 AM GMT+7</td>\n      <td>R</td>\n      <td>1</td>\n      <td>Wanita</td>\n      <td>2023-09-07</td>\n      <td>s</td>\n      <td>s</td>\n      <td>1</td>\n      <td>1.00</td>\n      <td>0.0</td>\n      <td>0.0</td>\n      <td>10.0</td>\n      <td>0.00</td>\n      <td>140000.0</td>\n    </tr>\n    <tr>\n      <th>2</th>\n      <td>2023/09/06 11:56:47 AM GMT+7</td>\n      <td>Heksaloga</td>\n      <td>215314212</td>\n      <td>Pria</td>\n      <td>2023-09-06</td>\n      <td>Bantul</td>\n      <td>DI Yogyakarta</td>\n      <td>55791</td>\n      <td>1.00</td>\n      <td>0.0</td>\n      <td>0.0</td>\n      <td>0.0</td>\n      <td>0.00</td>\n      <td>10000.0</td>\n    </tr>\n    <tr>\n      <th>3</th>\n      <td>2023/09/06 11:58:36 AM GMT+7</td>\n      <td>unknown</td>\n      <td>0</td>\n      <td>Wanita</td>\n      <td>2023-09-09</td>\n      <td>Yogja</td>\n      <td>we</td>\n      <td>42441</td>\n      <td>0.00</td>\n      <td>23.0</td>\n      <td>4.0</td>\n      <td>0.0</td>\n      <td>12.00</td>\n      <td>629000.0</td>\n    </tr>\n    <tr>\n      <th>4</th>\n      <td>2023/09/06 12:07:04 PM GMT+7</td>\n      <td>R</td>\n      <td>1</td>\n      <td>Pria</td>\n      <td>2023-10-27</td>\n      <td>s</td>\n      <td>d</td>\n      <td>1</td>\n      <td>0.00</td>\n      <td>0.0</td>\n      <td>10000.0</td>\n      <td>0.0</td>\n      <td>0.00</td>\n      <td>200000000.0</td>\n    </tr>\n    <tr>\n      <th>5</th>\n      <td>2023/09/06 12:08:10 PM GMT+7</td>\n      <td>Rahul</td>\n      <td>215151515</td>\n      <td>Wanita</td>\n      <td>2025-03-01</td>\n      <td>Penisvanilla</td>\n      <td>West Virginia</td>\n      <td>69420</td>\n      <td>2.00</td>\n      <td>3.0</td>\n      <td>4.0</td>\n      <td>5.0</td>\n      <td>0.00</td>\n      <td>210000.0</td>\n    </tr>\n    <tr>\n      <th>6</th>\n      <td>2023/09/06 1:04:58 PM GMT+7</td>\n      <td>Wenda</td>\n      <td>215314190</td>\n      <td>Wanita</td>\n      <td>2006-09-14</td>\n      <td>Medan</td>\n      <td>Sumatra utara</td>\n      <td>227323</td>\n      <td>2.00</td>\n      <td>4.0</td>\n      <td>1.0</td>\n      <td>2.0</td>\n      <td>3.00</td>\n      <td>177000.0</td>\n    </tr>\n    <tr>\n      <th>7</th>\n      <td>2023/09/07 7:54:39 PM GMT+7</td>\n      <td>Giacinta</td>\n      <td>215314211</td>\n      <td>Wanita</td>\n      <td>2003-06-22</td>\n      <td>Yogyakarta</td>\n      <td>Daerah Istimewa Yogyakarta</td>\n      <td>55563</td>\n      <td>100.00</td>\n      <td>75.0</td>\n      <td>20.0</td>\n      <td>50.0</td>\n      <td>34.00</td>\n      <td>3753000.0</td>\n    </tr>\n    <tr>\n      <th>8</th>\n      <td>2023/09/11 11:32:00 AM GMT+7</td>\n      <td>Prischia Ballo</td>\n      <td>215314166</td>\n      <td>Wanita</td>\n      <td>2004-04-20</td>\n      <td>Yogyakarta</td>\n      <td>Daerah Istimewa Yogyakarta</td>\n      <td>55584</td>\n      <td>3.00</td>\n      <td>10.0</td>\n      <td>7.0</td>\n      <td>2.0</td>\n      <td>4.00</td>\n      <td>414000.0</td>\n    </tr>\n    <tr>\n      <th>9</th>\n      <td>2023/09/11 11:33:03 AM GMT+7</td>\n      <td>Adrianus</td>\n      <td>13040221130064</td>\n      <td>Pria</td>\n      <td>2002-12-27</td>\n      <td>Semarang</td>\n      <td>Jawa Tengah</td>\n      <td>forgor💀</td>\n      <td>9.11</td>\n      <td>3.0</td>\n      <td>9.6</td>\n      <td>4.2</td>\n      <td>9.11</td>\n      <td>537570.0</td>\n    </tr>\n    <tr>\n      <th>10</th>\n      <td>2023/09/11 11:48:40 AM GMT+7</td>\n      <td>Annaya</td>\n      <td>215314412</td>\n      <td>Wanita</td>\n      <td>2003-01-04</td>\n      <td>Kab. Serang</td>\n      <td>Banten</td>\n      <td>42182</td>\n      <td>5.00</td>\n      <td>1.0</td>\n      <td>2.0</td>\n      <td>3.0</td>\n      <td>0.00</td>\n      <td>144000.0</td>\n    </tr>\n  </tbody>\n</table>\n</div>"
     },
     "execution_count": 18,
     "metadata": {},
     "output_type": "execute_result"
    }
   ],
   "source": [
    "# Replace negative values in \"Jumlah\" columns with 0\n",
    "jumlah_columns = [\n",
    "    'Jumlah pesanan Jeruk :',\n",
    "    'Jumlah pesanan Salak:',\n",
    "    'Jumlah pesanan Rambutan:',\n",
    "    'Jumlah pesanan Kelengkeng :',\n",
    "    'Jumlah pesanan Blimbing :'\n",
    "]\n",
    "\n",
    "# Remove extra spaces and special characters from column names\n",
    "df.columns = df.columns.str.strip()  # Remove leading/trailing spaces\n",
    "\n",
    "for col in jumlah_columns:\n",
    "    col = col.strip()  # Remove leading/trailing spaces from column name\n",
    "    df[col] = df[col].apply(lambda x: max(x, 0))\n",
    "\n",
    "# Replace NaN values in \"Jumlah\" columns with 0\n",
    "df[jumlah_columns] = df[jumlah_columns].fillna(0)\n",
    "\n",
    "# Drop rows with NaN values in \"Harga Total\" column\n",
    "df.dropna(subset=['Harga Total'], inplace=True)\n",
    "\n",
    "df.head(10)"
   ],
   "metadata": {
    "collapsed": false,
    "ExecuteTime": {
     "end_time": "2023-09-11T05:05:03.987219Z",
     "start_time": "2023-09-11T05:05:03.956886900Z"
    }
   },
   "id": "2b694909c1dbd8a9"
  },
  {
   "cell_type": "code",
   "execution_count": 19,
   "outputs": [],
   "source": [
    "# Replace NIM values with less than 9 numbers with a placeholder (e.g., 'INVALID')\n",
    "df['NIM'] = df['NIM'].apply(lambda x: x if x>215314000 and x<215314999 else '-9999')\n",
    "# Replace -9999 values with NaN in the entire DataFrame\n",
    "df.replace(-9999, np.nan, inplace=True)\n",
    "df.dropna(subset=['NIM'], inplace=True)\n",
    "df.head(10)\n"
   ],
   "metadata": {
    "collapsed": false,
    "ExecuteTime": {
     "end_time": "2023-09-11T05:05:04.035417Z",
     "start_time": "2023-09-11T05:05:03.987219Z"
    }
   },
   "id": "360cedb735a3b05c"
  },
  {
   "cell_type": "code",
   "execution_count": 20,
   "outputs": [
    {
     "data": {
      "text/plain": "                       Timestamp            Nama             NIM  \\\n1   2023/09/06 11:53:20 AM GMT+7               R               1   \n2   2023/09/06 11:56:47 AM GMT+7       Heksaloga       215314212   \n3   2023/09/06 11:58:36 AM GMT+7         unknown               0   \n4   2023/09/06 12:07:04 PM GMT+7               R               1   \n5   2023/09/06 12:08:10 PM GMT+7           Rahul       215151515   \n6    2023/09/06 1:04:58 PM GMT+7          Wenda        215314190   \n7    2023/09/07 7:54:39 PM GMT+7        Giacinta       215314211   \n8   2023/09/11 11:32:00 AM GMT+7  Prischia Ballo       215314166   \n9   2023/09/11 11:33:03 AM GMT+7       Adrianus   13040221130064   \n10  2023/09/11 11:48:40 AM GMT+7         Annaya        215314412   \n\n   Jenis Kelamin Tanggal Lahir          Kota                    Provinsi  \\\n1         Wanita    2023-09-07             s                           s   \n2           Pria    2023-09-06        Bantul               DI Yogyakarta   \n3         Wanita    2023-09-09         Yogja                          we   \n4           Pria    2023-10-27             s                           d   \n5         Wanita    2025-03-01  Penisvanilla              West Virginia    \n6         Wanita    2006-09-14        Medan               Sumatra utara    \n7         Wanita    2003-06-22    Yogyakarta  Daerah Istimewa Yogyakarta   \n8         Wanita    2004-04-20    Yogyakarta  Daerah Istimewa Yogyakarta   \n9           Pria    2002-12-27      Semarang                 Jawa Tengah   \n10        Wanita    2003-01-04   Kab. Serang                      Banten   \n\n   Kode POS  Jumlah pesanan Jeruk :  Jumlah pesanan Salak:  \\\n1         1                  0.0100               0.000000   \n2     55791                  0.0100               0.000000   \n3     42441                  0.0000               0.306667   \n4         1                  0.0000               0.000000   \n5     69420                  0.0200               0.040000   \n6    227323                  0.0200               0.053333   \n7     55563                  1.0000               1.000000   \n8     55584                  0.0300               0.133333   \n9   forgor💀                  0.0911               0.040000   \n10    42182                  0.0500               0.013333   \n\n    Jumlah pesanan Rambutan:  Jumlah pesanan Kelengkeng :  \\\n1                    0.00000                        0.200   \n2                    0.00000                        0.000   \n3                    0.00040                        0.000   \n4                    1.00000                        0.000   \n5                    0.00040                        0.100   \n6                    0.00010                        0.040   \n7                    0.00200                        1.000   \n8                    0.00070                        0.040   \n9                    0.00096                        0.084   \n10                   0.00020                        0.060   \n\n    Jumlah pesanan Blimbing :  Harga Total  \n1                    0.000000     0.000650  \n2                    0.000000     0.000000  \n3                    0.352941     0.003095  \n4                    0.000000     1.000000  \n5                    0.000000     0.001000  \n6                    0.088235     0.000835  \n7                    1.000000     0.018716  \n8                    0.117647     0.002020  \n9                    0.267941     0.002638  \n10                   0.000000     0.000670  ",
      "text/html": "<div>\n<style scoped>\n    .dataframe tbody tr th:only-of-type {\n        vertical-align: middle;\n    }\n\n    .dataframe tbody tr th {\n        vertical-align: top;\n    }\n\n    .dataframe thead th {\n        text-align: right;\n    }\n</style>\n<table border=\"1\" class=\"dataframe\">\n  <thead>\n    <tr style=\"text-align: right;\">\n      <th></th>\n      <th>Timestamp</th>\n      <th>Nama</th>\n      <th>NIM</th>\n      <th>Jenis Kelamin</th>\n      <th>Tanggal Lahir</th>\n      <th>Kota</th>\n      <th>Provinsi</th>\n      <th>Kode POS</th>\n      <th>Jumlah pesanan Jeruk :</th>\n      <th>Jumlah pesanan Salak:</th>\n      <th>Jumlah pesanan Rambutan:</th>\n      <th>Jumlah pesanan Kelengkeng :</th>\n      <th>Jumlah pesanan Blimbing :</th>\n      <th>Harga Total</th>\n    </tr>\n  </thead>\n  <tbody>\n    <tr>\n      <th>1</th>\n      <td>2023/09/06 11:53:20 AM GMT+7</td>\n      <td>R</td>\n      <td>1</td>\n      <td>Wanita</td>\n      <td>2023-09-07</td>\n      <td>s</td>\n      <td>s</td>\n      <td>1</td>\n      <td>0.0100</td>\n      <td>0.000000</td>\n      <td>0.00000</td>\n      <td>0.200</td>\n      <td>0.000000</td>\n      <td>0.000650</td>\n    </tr>\n    <tr>\n      <th>2</th>\n      <td>2023/09/06 11:56:47 AM GMT+7</td>\n      <td>Heksaloga</td>\n      <td>215314212</td>\n      <td>Pria</td>\n      <td>2023-09-06</td>\n      <td>Bantul</td>\n      <td>DI Yogyakarta</td>\n      <td>55791</td>\n      <td>0.0100</td>\n      <td>0.000000</td>\n      <td>0.00000</td>\n      <td>0.000</td>\n      <td>0.000000</td>\n      <td>0.000000</td>\n    </tr>\n    <tr>\n      <th>3</th>\n      <td>2023/09/06 11:58:36 AM GMT+7</td>\n      <td>unknown</td>\n      <td>0</td>\n      <td>Wanita</td>\n      <td>2023-09-09</td>\n      <td>Yogja</td>\n      <td>we</td>\n      <td>42441</td>\n      <td>0.0000</td>\n      <td>0.306667</td>\n      <td>0.00040</td>\n      <td>0.000</td>\n      <td>0.352941</td>\n      <td>0.003095</td>\n    </tr>\n    <tr>\n      <th>4</th>\n      <td>2023/09/06 12:07:04 PM GMT+7</td>\n      <td>R</td>\n      <td>1</td>\n      <td>Pria</td>\n      <td>2023-10-27</td>\n      <td>s</td>\n      <td>d</td>\n      <td>1</td>\n      <td>0.0000</td>\n      <td>0.000000</td>\n      <td>1.00000</td>\n      <td>0.000</td>\n      <td>0.000000</td>\n      <td>1.000000</td>\n    </tr>\n    <tr>\n      <th>5</th>\n      <td>2023/09/06 12:08:10 PM GMT+7</td>\n      <td>Rahul</td>\n      <td>215151515</td>\n      <td>Wanita</td>\n      <td>2025-03-01</td>\n      <td>Penisvanilla</td>\n      <td>West Virginia</td>\n      <td>69420</td>\n      <td>0.0200</td>\n      <td>0.040000</td>\n      <td>0.00040</td>\n      <td>0.100</td>\n      <td>0.000000</td>\n      <td>0.001000</td>\n    </tr>\n    <tr>\n      <th>6</th>\n      <td>2023/09/06 1:04:58 PM GMT+7</td>\n      <td>Wenda</td>\n      <td>215314190</td>\n      <td>Wanita</td>\n      <td>2006-09-14</td>\n      <td>Medan</td>\n      <td>Sumatra utara</td>\n      <td>227323</td>\n      <td>0.0200</td>\n      <td>0.053333</td>\n      <td>0.00010</td>\n      <td>0.040</td>\n      <td>0.088235</td>\n      <td>0.000835</td>\n    </tr>\n    <tr>\n      <th>7</th>\n      <td>2023/09/07 7:54:39 PM GMT+7</td>\n      <td>Giacinta</td>\n      <td>215314211</td>\n      <td>Wanita</td>\n      <td>2003-06-22</td>\n      <td>Yogyakarta</td>\n      <td>Daerah Istimewa Yogyakarta</td>\n      <td>55563</td>\n      <td>1.0000</td>\n      <td>1.000000</td>\n      <td>0.00200</td>\n      <td>1.000</td>\n      <td>1.000000</td>\n      <td>0.018716</td>\n    </tr>\n    <tr>\n      <th>8</th>\n      <td>2023/09/11 11:32:00 AM GMT+7</td>\n      <td>Prischia Ballo</td>\n      <td>215314166</td>\n      <td>Wanita</td>\n      <td>2004-04-20</td>\n      <td>Yogyakarta</td>\n      <td>Daerah Istimewa Yogyakarta</td>\n      <td>55584</td>\n      <td>0.0300</td>\n      <td>0.133333</td>\n      <td>0.00070</td>\n      <td>0.040</td>\n      <td>0.117647</td>\n      <td>0.002020</td>\n    </tr>\n    <tr>\n      <th>9</th>\n      <td>2023/09/11 11:33:03 AM GMT+7</td>\n      <td>Adrianus</td>\n      <td>13040221130064</td>\n      <td>Pria</td>\n      <td>2002-12-27</td>\n      <td>Semarang</td>\n      <td>Jawa Tengah</td>\n      <td>forgor💀</td>\n      <td>0.0911</td>\n      <td>0.040000</td>\n      <td>0.00096</td>\n      <td>0.084</td>\n      <td>0.267941</td>\n      <td>0.002638</td>\n    </tr>\n    <tr>\n      <th>10</th>\n      <td>2023/09/11 11:48:40 AM GMT+7</td>\n      <td>Annaya</td>\n      <td>215314412</td>\n      <td>Wanita</td>\n      <td>2003-01-04</td>\n      <td>Kab. Serang</td>\n      <td>Banten</td>\n      <td>42182</td>\n      <td>0.0500</td>\n      <td>0.013333</td>\n      <td>0.00020</td>\n      <td>0.060</td>\n      <td>0.000000</td>\n      <td>0.000670</td>\n    </tr>\n  </tbody>\n</table>\n</div>"
     },
     "execution_count": 20,
     "metadata": {},
     "output_type": "execute_result"
    }
   ],
   "source": [
    "df2 = df.copy()\n",
    "min_harga_total = df2['Harga Total'].min()\n",
    "max_harga_total = df2['Harga Total'].max()\n",
    "df2['Harga Total'] = (df2['Harga Total'] - min_harga_total) / (max_harga_total - min_harga_total)\n",
    "\n",
    "# Perform min-max normalization on \"Jumlah\" columns\n",
    "for col in jumlah_columns:\n",
    "    min_val = df2[col].min()\n",
    "    max_val = df2[col].max()\n",
    "    df2[col] = (df2[col] - min_val) / (max_val - min_val)\n",
    "\n",
    "# Save the cleaned and normalized DataFrame to a new CSV file\n",
    "df2.to_csv('minMaxNormalized_data.csv', index=False)\n",
    "df2.head(10)"
   ],
   "metadata": {
    "collapsed": false,
    "ExecuteTime": {
     "end_time": "2023-09-11T05:05:04.127200900Z",
     "start_time": "2023-09-11T05:05:04.007261700Z"
    }
   },
   "id": "83f40e71e88931c"
  },
  {
   "cell_type": "code",
   "execution_count": 21,
   "outputs": [
    {
     "data": {
      "text/plain": "                       Timestamp            Nama             NIM  \\\n1   2023/09/06 11:53:20 AM GMT+7               R               1   \n2   2023/09/06 11:56:47 AM GMT+7       Heksaloga       215314212   \n3   2023/09/06 11:58:36 AM GMT+7         unknown               0   \n4   2023/09/06 12:07:04 PM GMT+7               R               1   \n5   2023/09/06 12:08:10 PM GMT+7           Rahul       215151515   \n6    2023/09/06 1:04:58 PM GMT+7          Wenda        215314190   \n7    2023/09/07 7:54:39 PM GMT+7        Giacinta       215314211   \n8   2023/09/11 11:32:00 AM GMT+7  Prischia Ballo       215314166   \n9   2023/09/11 11:33:03 AM GMT+7       Adrianus   13040221130064   \n10  2023/09/11 11:48:40 AM GMT+7         Annaya        215314412   \n\n   Jenis Kelamin Tanggal Lahir          Kota                    Provinsi  \\\n1         Wanita    2023-09-07             s                           s   \n2           Pria    2023-09-06        Bantul               DI Yogyakarta   \n3         Wanita    2023-09-09         Yogja                          we   \n4           Pria    2023-10-27             s                           d   \n5         Wanita    2025-03-01  Penisvanilla              West Virginia    \n6         Wanita    2006-09-14        Medan               Sumatra utara    \n7         Wanita    2003-06-22    Yogyakarta  Daerah Istimewa Yogyakarta   \n8         Wanita    2004-04-20    Yogyakarta  Daerah Istimewa Yogyakarta   \n9           Pria    2002-12-27      Semarang                 Jawa Tengah   \n10        Wanita    2003-01-04   Kab. Serang                      Banten   \n\n   Kode POS  Jumlah pesanan Jeruk :  Jumlah pesanan Salak:  \\\n1         1               -0.365667              -0.511416   \n2     55791               -0.365667              -0.511416   \n3     42441               -0.397995               0.477035   \n4         1               -0.397995              -0.511416   \n5     69420               -0.333339              -0.382488   \n6    227323               -0.333339              -0.339512   \n7     55563                2.834849               2.711795   \n8     55584               -0.301010              -0.081655   \n9   forgor💀               -0.103483              -0.382488   \n10    42182               -0.236353              -0.468440   \n\n    Jumlah pesanan Rambutan:  Jumlah pesanan Kelengkeng :  \\\n1                  -0.317901                     0.156593   \n2                  -0.317901                    -0.501360   \n3                  -0.316635                    -0.501360   \n4                   2.846045                    -0.501360   \n5                  -0.316635                    -0.172384   \n6                  -0.317584                    -0.369769   \n7                  -0.311573                     2.788402   \n8                  -0.315686                    -0.369769   \n9                  -0.314863                    -0.225020   \n10                 -0.317268                    -0.303974   \n\n    Jumlah pesanan Blimbing :  Harga Total  \n1                   -0.582786    -0.324559  \n2                   -0.582786    -0.326621  \n3                    0.543189    -0.316802  \n4                   -0.582786     2.845611  \n5                   -0.582786    -0.323448  \n6                   -0.301292    -0.323972  \n7                    2.607477    -0.267249  \n8                   -0.207461    -0.320212  \n9                    0.272017    -0.318252  \n10                  -0.582786    -0.324495  ",
      "text/html": "<div>\n<style scoped>\n    .dataframe tbody tr th:only-of-type {\n        vertical-align: middle;\n    }\n\n    .dataframe tbody tr th {\n        vertical-align: top;\n    }\n\n    .dataframe thead th {\n        text-align: right;\n    }\n</style>\n<table border=\"1\" class=\"dataframe\">\n  <thead>\n    <tr style=\"text-align: right;\">\n      <th></th>\n      <th>Timestamp</th>\n      <th>Nama</th>\n      <th>NIM</th>\n      <th>Jenis Kelamin</th>\n      <th>Tanggal Lahir</th>\n      <th>Kota</th>\n      <th>Provinsi</th>\n      <th>Kode POS</th>\n      <th>Jumlah pesanan Jeruk :</th>\n      <th>Jumlah pesanan Salak:</th>\n      <th>Jumlah pesanan Rambutan:</th>\n      <th>Jumlah pesanan Kelengkeng :</th>\n      <th>Jumlah pesanan Blimbing :</th>\n      <th>Harga Total</th>\n    </tr>\n  </thead>\n  <tbody>\n    <tr>\n      <th>1</th>\n      <td>2023/09/06 11:53:20 AM GMT+7</td>\n      <td>R</td>\n      <td>1</td>\n      <td>Wanita</td>\n      <td>2023-09-07</td>\n      <td>s</td>\n      <td>s</td>\n      <td>1</td>\n      <td>-0.365667</td>\n      <td>-0.511416</td>\n      <td>-0.317901</td>\n      <td>0.156593</td>\n      <td>-0.582786</td>\n      <td>-0.324559</td>\n    </tr>\n    <tr>\n      <th>2</th>\n      <td>2023/09/06 11:56:47 AM GMT+7</td>\n      <td>Heksaloga</td>\n      <td>215314212</td>\n      <td>Pria</td>\n      <td>2023-09-06</td>\n      <td>Bantul</td>\n      <td>DI Yogyakarta</td>\n      <td>55791</td>\n      <td>-0.365667</td>\n      <td>-0.511416</td>\n      <td>-0.317901</td>\n      <td>-0.501360</td>\n      <td>-0.582786</td>\n      <td>-0.326621</td>\n    </tr>\n    <tr>\n      <th>3</th>\n      <td>2023/09/06 11:58:36 AM GMT+7</td>\n      <td>unknown</td>\n      <td>0</td>\n      <td>Wanita</td>\n      <td>2023-09-09</td>\n      <td>Yogja</td>\n      <td>we</td>\n      <td>42441</td>\n      <td>-0.397995</td>\n      <td>0.477035</td>\n      <td>-0.316635</td>\n      <td>-0.501360</td>\n      <td>0.543189</td>\n      <td>-0.316802</td>\n    </tr>\n    <tr>\n      <th>4</th>\n      <td>2023/09/06 12:07:04 PM GMT+7</td>\n      <td>R</td>\n      <td>1</td>\n      <td>Pria</td>\n      <td>2023-10-27</td>\n      <td>s</td>\n      <td>d</td>\n      <td>1</td>\n      <td>-0.397995</td>\n      <td>-0.511416</td>\n      <td>2.846045</td>\n      <td>-0.501360</td>\n      <td>-0.582786</td>\n      <td>2.845611</td>\n    </tr>\n    <tr>\n      <th>5</th>\n      <td>2023/09/06 12:08:10 PM GMT+7</td>\n      <td>Rahul</td>\n      <td>215151515</td>\n      <td>Wanita</td>\n      <td>2025-03-01</td>\n      <td>Penisvanilla</td>\n      <td>West Virginia</td>\n      <td>69420</td>\n      <td>-0.333339</td>\n      <td>-0.382488</td>\n      <td>-0.316635</td>\n      <td>-0.172384</td>\n      <td>-0.582786</td>\n      <td>-0.323448</td>\n    </tr>\n    <tr>\n      <th>6</th>\n      <td>2023/09/06 1:04:58 PM GMT+7</td>\n      <td>Wenda</td>\n      <td>215314190</td>\n      <td>Wanita</td>\n      <td>2006-09-14</td>\n      <td>Medan</td>\n      <td>Sumatra utara</td>\n      <td>227323</td>\n      <td>-0.333339</td>\n      <td>-0.339512</td>\n      <td>-0.317584</td>\n      <td>-0.369769</td>\n      <td>-0.301292</td>\n      <td>-0.323972</td>\n    </tr>\n    <tr>\n      <th>7</th>\n      <td>2023/09/07 7:54:39 PM GMT+7</td>\n      <td>Giacinta</td>\n      <td>215314211</td>\n      <td>Wanita</td>\n      <td>2003-06-22</td>\n      <td>Yogyakarta</td>\n      <td>Daerah Istimewa Yogyakarta</td>\n      <td>55563</td>\n      <td>2.834849</td>\n      <td>2.711795</td>\n      <td>-0.311573</td>\n      <td>2.788402</td>\n      <td>2.607477</td>\n      <td>-0.267249</td>\n    </tr>\n    <tr>\n      <th>8</th>\n      <td>2023/09/11 11:32:00 AM GMT+7</td>\n      <td>Prischia Ballo</td>\n      <td>215314166</td>\n      <td>Wanita</td>\n      <td>2004-04-20</td>\n      <td>Yogyakarta</td>\n      <td>Daerah Istimewa Yogyakarta</td>\n      <td>55584</td>\n      <td>-0.301010</td>\n      <td>-0.081655</td>\n      <td>-0.315686</td>\n      <td>-0.369769</td>\n      <td>-0.207461</td>\n      <td>-0.320212</td>\n    </tr>\n    <tr>\n      <th>9</th>\n      <td>2023/09/11 11:33:03 AM GMT+7</td>\n      <td>Adrianus</td>\n      <td>13040221130064</td>\n      <td>Pria</td>\n      <td>2002-12-27</td>\n      <td>Semarang</td>\n      <td>Jawa Tengah</td>\n      <td>forgor💀</td>\n      <td>-0.103483</td>\n      <td>-0.382488</td>\n      <td>-0.314863</td>\n      <td>-0.225020</td>\n      <td>0.272017</td>\n      <td>-0.318252</td>\n    </tr>\n    <tr>\n      <th>10</th>\n      <td>2023/09/11 11:48:40 AM GMT+7</td>\n      <td>Annaya</td>\n      <td>215314412</td>\n      <td>Wanita</td>\n      <td>2003-01-04</td>\n      <td>Kab. Serang</td>\n      <td>Banten</td>\n      <td>42182</td>\n      <td>-0.236353</td>\n      <td>-0.468440</td>\n      <td>-0.317268</td>\n      <td>-0.303974</td>\n      <td>-0.582786</td>\n      <td>-0.324495</td>\n    </tr>\n  </tbody>\n</table>\n</div>"
     },
     "execution_count": 21,
     "metadata": {},
     "output_type": "execute_result"
    }
   ],
   "source": [
    "df3 = df.copy()\n",
    "# Z-score normalization on \"Harga Total\" column\n",
    "mean_harga_total = df3['Harga Total'].mean()\n",
    "std_harga_total = df3['Harga Total'].std()\n",
    "df3['Harga Total'] = (df3['Harga Total'] - mean_harga_total) / std_harga_total\n",
    "\n",
    "# Z-score normalization on \"Jumlah\" columns\n",
    "for col in jumlah_columns:\n",
    "    mean_val = df3[col].mean()\n",
    "    std_val = df3[col].std()\n",
    "    df3[col] = (df3[col] - mean_val) / std_val\n",
    "\n",
    "# Save the cleaned and normalized DataFrame to a new CSV file\n",
    "df3.to_csv('zScoreNormalized_data.csv', index=False)\n",
    "df3.head(10)"
   ],
   "metadata": {
    "collapsed": false,
    "ExecuteTime": {
     "end_time": "2023-09-11T05:05:04.193958500Z",
     "start_time": "2023-09-11T05:05:04.036928Z"
    }
   },
   "id": "571d69e596d3ceae"
  }
 ],
 "metadata": {
  "kernelspec": {
   "display_name": "Python 3",
   "language": "python",
   "name": "python3"
  },
  "language_info": {
   "codemirror_mode": {
    "name": "ipython",
    "version": 2
   },
   "file_extension": ".py",
   "mimetype": "text/x-python",
   "name": "python",
   "nbconvert_exporter": "python",
   "pygments_lexer": "ipython2",
   "version": "2.7.6"
  }
 },
 "nbformat": 4,
 "nbformat_minor": 5
}
