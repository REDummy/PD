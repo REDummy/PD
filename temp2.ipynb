{
 "cells": [
  {
   "cell_type": "code",
   "execution_count": 44,
   "id": "initial_id",
   "metadata": {
    "collapsed": true,
    "ExecuteTime": {
     "end_time": "2023-09-10T13:43:55.120161600Z",
     "start_time": "2023-09-10T13:43:55.086606200Z"
    }
   },
   "outputs": [],
   "source": [
    "import pandas as pd"
   ]
  },
  {
   "cell_type": "code",
   "execution_count": 45,
   "outputs": [
    {
     "data": {
      "text/plain": "                      Timestamp      Nama         NIM Jenis Kelamin  \\\n0  2023/09/06 11:51:23 AM GMT+7          R          1          Pria   \n1  2023/09/06 11:53:20 AM GMT+7          R          1        Wanita   \n2  2023/09/06 11:56:47 AM GMT+7  Heksaloga  215314212          Pria   \n3  2023/09/06 11:58:36 AM GMT+7    unknown          0        Wanita   \n4  2023/09/06 12:07:04 PM GMT+7          R          1          Pria   \n5  2023/09/06 12:08:10 PM GMT+7      Rahul  215151515        Wanita   \n6   2023/09/06 1:04:58 PM GMT+7     Wenda   215314190        Wanita   \n7   2023/09/07 7:54:39 PM GMT+7   Giacinta  215314211        Wanita   \n\n  Tanggal Lahir          Kota                    Provinsi  Kode POS  \\\n0    2023-09-07             s                           d         1   \n1    2023-09-07             s                           s         1   \n2    2023-09-06        Bantul               DI Yogyakarta     55791   \n3    2023-09-09         Yogja                          we     42441   \n4    2023-10-27             s                           d         1   \n5    2025-03-01  Penisvanilla              West Virginia      69420   \n6    2006-09-14        Medan               Sumatra utara     227323   \n7    2003-06-22    Yogyakarta  Daerah Istimewa Yogyakarta     55563   \n\n   Jumlah pesanan Jeruk :  Jumlah pesanan Salak:   Jumlah pesanan Rambutan:   \\\n0                    -1.0                     0.0                        7.0   \n1                     1.0                     0.0                        0.0   \n2                     1.0                     0.0                        0.0   \n3                     0.0                    23.0                        4.0   \n4                     0.0                     0.0                    10000.0   \n5                     2.0                     3.0                        4.0   \n6                     2.0                     4.0                        1.0   \n7                   100.0                    75.0                       20.0   \n\n   Jumlah pesanan Kelengkeng :  Jumlah pesanan Blimbing : Harga Total  \n0                          NaN                        NaN  engga tahu  \n1                         10.0                        NaN      140000  \n2                          0.0                        0.0       10000  \n3                          0.0                       12.0      629000  \n4                          NaN                        NaN   200000000  \n5                          5.0                        0.0      210000  \n6                          2.0                        3.0      177000  \n7                         50.0                       34.0     3753000  ",
      "text/html": "<div>\n<style scoped>\n    .dataframe tbody tr th:only-of-type {\n        vertical-align: middle;\n    }\n\n    .dataframe tbody tr th {\n        vertical-align: top;\n    }\n\n    .dataframe thead th {\n        text-align: right;\n    }\n</style>\n<table border=\"1\" class=\"dataframe\">\n  <thead>\n    <tr style=\"text-align: right;\">\n      <th></th>\n      <th>Timestamp</th>\n      <th>Nama</th>\n      <th>NIM</th>\n      <th>Jenis Kelamin</th>\n      <th>Tanggal Lahir</th>\n      <th>Kota</th>\n      <th>Provinsi</th>\n      <th>Kode POS</th>\n      <th>Jumlah pesanan Jeruk :</th>\n      <th>Jumlah pesanan Salak:</th>\n      <th>Jumlah pesanan Rambutan:</th>\n      <th>Jumlah pesanan Kelengkeng :</th>\n      <th>Jumlah pesanan Blimbing :</th>\n      <th>Harga Total</th>\n    </tr>\n  </thead>\n  <tbody>\n    <tr>\n      <th>0</th>\n      <td>2023/09/06 11:51:23 AM GMT+7</td>\n      <td>R</td>\n      <td>1</td>\n      <td>Pria</td>\n      <td>2023-09-07</td>\n      <td>s</td>\n      <td>d</td>\n      <td>1</td>\n      <td>-1.0</td>\n      <td>0.0</td>\n      <td>7.0</td>\n      <td>NaN</td>\n      <td>NaN</td>\n      <td>engga tahu</td>\n    </tr>\n    <tr>\n      <th>1</th>\n      <td>2023/09/06 11:53:20 AM GMT+7</td>\n      <td>R</td>\n      <td>1</td>\n      <td>Wanita</td>\n      <td>2023-09-07</td>\n      <td>s</td>\n      <td>s</td>\n      <td>1</td>\n      <td>1.0</td>\n      <td>0.0</td>\n      <td>0.0</td>\n      <td>10.0</td>\n      <td>NaN</td>\n      <td>140000</td>\n    </tr>\n    <tr>\n      <th>2</th>\n      <td>2023/09/06 11:56:47 AM GMT+7</td>\n      <td>Heksaloga</td>\n      <td>215314212</td>\n      <td>Pria</td>\n      <td>2023-09-06</td>\n      <td>Bantul</td>\n      <td>DI Yogyakarta</td>\n      <td>55791</td>\n      <td>1.0</td>\n      <td>0.0</td>\n      <td>0.0</td>\n      <td>0.0</td>\n      <td>0.0</td>\n      <td>10000</td>\n    </tr>\n    <tr>\n      <th>3</th>\n      <td>2023/09/06 11:58:36 AM GMT+7</td>\n      <td>unknown</td>\n      <td>0</td>\n      <td>Wanita</td>\n      <td>2023-09-09</td>\n      <td>Yogja</td>\n      <td>we</td>\n      <td>42441</td>\n      <td>0.0</td>\n      <td>23.0</td>\n      <td>4.0</td>\n      <td>0.0</td>\n      <td>12.0</td>\n      <td>629000</td>\n    </tr>\n    <tr>\n      <th>4</th>\n      <td>2023/09/06 12:07:04 PM GMT+7</td>\n      <td>R</td>\n      <td>1</td>\n      <td>Pria</td>\n      <td>2023-10-27</td>\n      <td>s</td>\n      <td>d</td>\n      <td>1</td>\n      <td>0.0</td>\n      <td>0.0</td>\n      <td>10000.0</td>\n      <td>NaN</td>\n      <td>NaN</td>\n      <td>200000000</td>\n    </tr>\n    <tr>\n      <th>5</th>\n      <td>2023/09/06 12:08:10 PM GMT+7</td>\n      <td>Rahul</td>\n      <td>215151515</td>\n      <td>Wanita</td>\n      <td>2025-03-01</td>\n      <td>Penisvanilla</td>\n      <td>West Virginia</td>\n      <td>69420</td>\n      <td>2.0</td>\n      <td>3.0</td>\n      <td>4.0</td>\n      <td>5.0</td>\n      <td>0.0</td>\n      <td>210000</td>\n    </tr>\n    <tr>\n      <th>6</th>\n      <td>2023/09/06 1:04:58 PM GMT+7</td>\n      <td>Wenda</td>\n      <td>215314190</td>\n      <td>Wanita</td>\n      <td>2006-09-14</td>\n      <td>Medan</td>\n      <td>Sumatra utara</td>\n      <td>227323</td>\n      <td>2.0</td>\n      <td>4.0</td>\n      <td>1.0</td>\n      <td>2.0</td>\n      <td>3.0</td>\n      <td>177000</td>\n    </tr>\n    <tr>\n      <th>7</th>\n      <td>2023/09/07 7:54:39 PM GMT+7</td>\n      <td>Giacinta</td>\n      <td>215314211</td>\n      <td>Wanita</td>\n      <td>2003-06-22</td>\n      <td>Yogyakarta</td>\n      <td>Daerah Istimewa Yogyakarta</td>\n      <td>55563</td>\n      <td>100.0</td>\n      <td>75.0</td>\n      <td>20.0</td>\n      <td>50.0</td>\n      <td>34.0</td>\n      <td>3753000</td>\n    </tr>\n  </tbody>\n</table>\n</div>"
     },
     "execution_count": 45,
     "metadata": {},
     "output_type": "execute_result"
    }
   ],
   "source": [
    "# Load the CSV file into a DataFrame\n",
    "df = pd.read_csv('Toko Buah _MELON ;)_.csv', delimiter=',')\n",
    "df.head(20)"
   ],
   "metadata": {
    "collapsed": false,
    "ExecuteTime": {
     "end_time": "2023-09-10T13:43:55.148217200Z",
     "start_time": "2023-09-10T13:43:55.100115900Z"
    }
   },
   "id": "8d725979632309f5"
  },
  {
   "cell_type": "code",
   "execution_count": 46,
   "outputs": [
    {
     "data": {
      "text/plain": "                      Timestamp      Nama         NIM Jenis Kelamin  \\\n0  2023/09/06 11:51:23 AM GMT+7          R          1          Pria   \n1  2023/09/06 11:53:20 AM GMT+7          R          1        Wanita   \n2  2023/09/06 11:56:47 AM GMT+7  Heksaloga  215314212          Pria   \n3  2023/09/06 11:58:36 AM GMT+7    unknown          0        Wanita   \n4  2023/09/06 12:07:04 PM GMT+7          R          1          Pria   \n\n  Tanggal Lahir    Kota       Provinsi  Kode POS  Jumlah pesanan Jeruk :  \\\n0    2023-09-07       s              d         1                    -1.0   \n1    2023-09-07       s              s         1                     1.0   \n2    2023-09-06  Bantul  DI Yogyakarta     55791                     1.0   \n3    2023-09-09   Yogja             we     42441                     0.0   \n4    2023-10-27       s              d         1                     0.0   \n\n   Jumlah pesanan Salak:   Jumlah pesanan Rambutan:   \\\n0                     0.0                        7.0   \n1                     0.0                        0.0   \n2                     0.0                        0.0   \n3                    23.0                        4.0   \n4                     0.0                    10000.0   \n\n   Jumlah pesanan Kelengkeng :  Jumlah pesanan Blimbing :  Harga Total  \n0                          NaN                        NaN          NaN  \n1                         10.0                        NaN     140000.0  \n2                          0.0                        0.0      10000.0  \n3                          0.0                       12.0     629000.0  \n4                          NaN                        NaN  200000000.0  ",
      "text/html": "<div>\n<style scoped>\n    .dataframe tbody tr th:only-of-type {\n        vertical-align: middle;\n    }\n\n    .dataframe tbody tr th {\n        vertical-align: top;\n    }\n\n    .dataframe thead th {\n        text-align: right;\n    }\n</style>\n<table border=\"1\" class=\"dataframe\">\n  <thead>\n    <tr style=\"text-align: right;\">\n      <th></th>\n      <th>Timestamp</th>\n      <th>Nama</th>\n      <th>NIM</th>\n      <th>Jenis Kelamin</th>\n      <th>Tanggal Lahir</th>\n      <th>Kota</th>\n      <th>Provinsi</th>\n      <th>Kode POS</th>\n      <th>Jumlah pesanan Jeruk :</th>\n      <th>Jumlah pesanan Salak:</th>\n      <th>Jumlah pesanan Rambutan:</th>\n      <th>Jumlah pesanan Kelengkeng :</th>\n      <th>Jumlah pesanan Blimbing :</th>\n      <th>Harga Total</th>\n    </tr>\n  </thead>\n  <tbody>\n    <tr>\n      <th>0</th>\n      <td>2023/09/06 11:51:23 AM GMT+7</td>\n      <td>R</td>\n      <td>1</td>\n      <td>Pria</td>\n      <td>2023-09-07</td>\n      <td>s</td>\n      <td>d</td>\n      <td>1</td>\n      <td>-1.0</td>\n      <td>0.0</td>\n      <td>7.0</td>\n      <td>NaN</td>\n      <td>NaN</td>\n      <td>NaN</td>\n    </tr>\n    <tr>\n      <th>1</th>\n      <td>2023/09/06 11:53:20 AM GMT+7</td>\n      <td>R</td>\n      <td>1</td>\n      <td>Wanita</td>\n      <td>2023-09-07</td>\n      <td>s</td>\n      <td>s</td>\n      <td>1</td>\n      <td>1.0</td>\n      <td>0.0</td>\n      <td>0.0</td>\n      <td>10.0</td>\n      <td>NaN</td>\n      <td>140000.0</td>\n    </tr>\n    <tr>\n      <th>2</th>\n      <td>2023/09/06 11:56:47 AM GMT+7</td>\n      <td>Heksaloga</td>\n      <td>215314212</td>\n      <td>Pria</td>\n      <td>2023-09-06</td>\n      <td>Bantul</td>\n      <td>DI Yogyakarta</td>\n      <td>55791</td>\n      <td>1.0</td>\n      <td>0.0</td>\n      <td>0.0</td>\n      <td>0.0</td>\n      <td>0.0</td>\n      <td>10000.0</td>\n    </tr>\n    <tr>\n      <th>3</th>\n      <td>2023/09/06 11:58:36 AM GMT+7</td>\n      <td>unknown</td>\n      <td>0</td>\n      <td>Wanita</td>\n      <td>2023-09-09</td>\n      <td>Yogja</td>\n      <td>we</td>\n      <td>42441</td>\n      <td>0.0</td>\n      <td>23.0</td>\n      <td>4.0</td>\n      <td>0.0</td>\n      <td>12.0</td>\n      <td>629000.0</td>\n    </tr>\n    <tr>\n      <th>4</th>\n      <td>2023/09/06 12:07:04 PM GMT+7</td>\n      <td>R</td>\n      <td>1</td>\n      <td>Pria</td>\n      <td>2023-10-27</td>\n      <td>s</td>\n      <td>d</td>\n      <td>1</td>\n      <td>0.0</td>\n      <td>0.0</td>\n      <td>10000.0</td>\n      <td>NaN</td>\n      <td>NaN</td>\n      <td>200000000.0</td>\n    </tr>\n  </tbody>\n</table>\n</div>"
     },
     "execution_count": 46,
     "metadata": {},
     "output_type": "execute_result"
    }
   ],
   "source": [
    "df['Harga Total'] = pd.to_numeric(df['Harga Total'], errors='coerce')\n",
    "df.head()"
   ],
   "metadata": {
    "collapsed": false,
    "ExecuteTime": {
     "end_time": "2023-09-10T13:43:55.149215700Z",
     "start_time": "2023-09-10T13:43:55.130673200Z"
    }
   },
   "id": "426dc12ac86f3f03"
  },
  {
   "cell_type": "code",
   "execution_count": 47,
   "outputs": [
    {
     "data": {
      "text/plain": "                      Timestamp       Nama        NIM Jenis Kelamin  \\\n1  2023/09/06 11:53:20 AM GMT+7          R          1        Wanita   \n2  2023/09/06 11:56:47 AM GMT+7  Heksaloga  215314212          Pria   \n3  2023/09/06 11:58:36 AM GMT+7    unknown          0        Wanita   \n4  2023/09/06 12:07:04 PM GMT+7          R          1          Pria   \n5  2023/09/06 12:08:10 PM GMT+7      Rahul  215151515        Wanita   \n\n  Tanggal Lahir          Kota        Provinsi  Kode POS  \\\n1    2023-09-07             s               s         1   \n2    2023-09-06        Bantul   DI Yogyakarta     55791   \n3    2023-09-09         Yogja              we     42441   \n4    2023-10-27             s               d         1   \n5    2025-03-01  Penisvanilla  West Virginia      69420   \n\n   Jumlah pesanan Jeruk :  Jumlah pesanan Salak:  Jumlah pesanan Rambutan:  \\\n1                     1.0                    0.0                       0.0   \n2                     1.0                    0.0                       0.0   \n3                     0.0                   23.0                       4.0   \n4                     0.0                    0.0                   10000.0   \n5                     2.0                    3.0                       4.0   \n\n   Jumlah pesanan Kelengkeng :  Jumlah pesanan Blimbing :  Harga Total  \n1                         10.0                        0.0     140000.0  \n2                          0.0                        0.0      10000.0  \n3                          0.0                       12.0     629000.0  \n4                          0.0                        0.0  200000000.0  \n5                          5.0                        0.0     210000.0  ",
      "text/html": "<div>\n<style scoped>\n    .dataframe tbody tr th:only-of-type {\n        vertical-align: middle;\n    }\n\n    .dataframe tbody tr th {\n        vertical-align: top;\n    }\n\n    .dataframe thead th {\n        text-align: right;\n    }\n</style>\n<table border=\"1\" class=\"dataframe\">\n  <thead>\n    <tr style=\"text-align: right;\">\n      <th></th>\n      <th>Timestamp</th>\n      <th>Nama</th>\n      <th>NIM</th>\n      <th>Jenis Kelamin</th>\n      <th>Tanggal Lahir</th>\n      <th>Kota</th>\n      <th>Provinsi</th>\n      <th>Kode POS</th>\n      <th>Jumlah pesanan Jeruk :</th>\n      <th>Jumlah pesanan Salak:</th>\n      <th>Jumlah pesanan Rambutan:</th>\n      <th>Jumlah pesanan Kelengkeng :</th>\n      <th>Jumlah pesanan Blimbing :</th>\n      <th>Harga Total</th>\n    </tr>\n  </thead>\n  <tbody>\n    <tr>\n      <th>1</th>\n      <td>2023/09/06 11:53:20 AM GMT+7</td>\n      <td>R</td>\n      <td>1</td>\n      <td>Wanita</td>\n      <td>2023-09-07</td>\n      <td>s</td>\n      <td>s</td>\n      <td>1</td>\n      <td>1.0</td>\n      <td>0.0</td>\n      <td>0.0</td>\n      <td>10.0</td>\n      <td>0.0</td>\n      <td>140000.0</td>\n    </tr>\n    <tr>\n      <th>2</th>\n      <td>2023/09/06 11:56:47 AM GMT+7</td>\n      <td>Heksaloga</td>\n      <td>215314212</td>\n      <td>Pria</td>\n      <td>2023-09-06</td>\n      <td>Bantul</td>\n      <td>DI Yogyakarta</td>\n      <td>55791</td>\n      <td>1.0</td>\n      <td>0.0</td>\n      <td>0.0</td>\n      <td>0.0</td>\n      <td>0.0</td>\n      <td>10000.0</td>\n    </tr>\n    <tr>\n      <th>3</th>\n      <td>2023/09/06 11:58:36 AM GMT+7</td>\n      <td>unknown</td>\n      <td>0</td>\n      <td>Wanita</td>\n      <td>2023-09-09</td>\n      <td>Yogja</td>\n      <td>we</td>\n      <td>42441</td>\n      <td>0.0</td>\n      <td>23.0</td>\n      <td>4.0</td>\n      <td>0.0</td>\n      <td>12.0</td>\n      <td>629000.0</td>\n    </tr>\n    <tr>\n      <th>4</th>\n      <td>2023/09/06 12:07:04 PM GMT+7</td>\n      <td>R</td>\n      <td>1</td>\n      <td>Pria</td>\n      <td>2023-10-27</td>\n      <td>s</td>\n      <td>d</td>\n      <td>1</td>\n      <td>0.0</td>\n      <td>0.0</td>\n      <td>10000.0</td>\n      <td>0.0</td>\n      <td>0.0</td>\n      <td>200000000.0</td>\n    </tr>\n    <tr>\n      <th>5</th>\n      <td>2023/09/06 12:08:10 PM GMT+7</td>\n      <td>Rahul</td>\n      <td>215151515</td>\n      <td>Wanita</td>\n      <td>2025-03-01</td>\n      <td>Penisvanilla</td>\n      <td>West Virginia</td>\n      <td>69420</td>\n      <td>2.0</td>\n      <td>3.0</td>\n      <td>4.0</td>\n      <td>5.0</td>\n      <td>0.0</td>\n      <td>210000.0</td>\n    </tr>\n  </tbody>\n</table>\n</div>"
     },
     "execution_count": 47,
     "metadata": {},
     "output_type": "execute_result"
    }
   ],
   "source": [
    "# Replace negative values in \"Jumlah\" columns with 0\n",
    "jumlah_columns = [\n",
    "    'Jumlah pesanan Jeruk :',\n",
    "    'Jumlah pesanan Salak:',\n",
    "    'Jumlah pesanan Rambutan:',\n",
    "    'Jumlah pesanan Kelengkeng :',\n",
    "    'Jumlah pesanan Blimbing :'\n",
    "]\n",
    "\n",
    "# Remove extra spaces and special characters from column names\n",
    "df.columns = df.columns.str.strip()  # Remove leading/trailing spaces\n",
    "\n",
    "for col in jumlah_columns:\n",
    "    col = col.strip()  # Remove leading/trailing spaces from column name\n",
    "    df[col] = df[col].apply(lambda x: max(x, 0))\n",
    "\n",
    "# Replace NaN values in \"Jumlah\" columns with 0\n",
    "df[jumlah_columns] = df[jumlah_columns].fillna(0)\n",
    "\n",
    "# Drop rows with NaN values in \"Harga Total\" column\n",
    "df.dropna(subset=['Harga Total'], inplace=True)\n",
    "\n",
    "df.head()"
   ],
   "metadata": {
    "collapsed": false,
    "ExecuteTime": {
     "end_time": "2023-09-10T13:43:55.197260800Z",
     "start_time": "2023-09-10T13:43:55.149215700Z"
    }
   },
   "id": "2b694909c1dbd8a9"
  },
  {
   "cell_type": "code",
   "execution_count": 48,
   "outputs": [
    {
     "data": {
      "text/plain": "                      Timestamp       Nama        NIM Jenis Kelamin  \\\n1  2023/09/06 11:53:20 AM GMT+7          R          1        Wanita   \n2  2023/09/06 11:56:47 AM GMT+7  Heksaloga  215314212          Pria   \n3  2023/09/06 11:58:36 AM GMT+7    unknown          0        Wanita   \n4  2023/09/06 12:07:04 PM GMT+7          R          1          Pria   \n5  2023/09/06 12:08:10 PM GMT+7      Rahul  215151515        Wanita   \n6   2023/09/06 1:04:58 PM GMT+7     Wenda   215314190        Wanita   \n7   2023/09/07 7:54:39 PM GMT+7   Giacinta  215314211        Wanita   \n\n  Tanggal Lahir          Kota                    Provinsi  Kode POS  \\\n1    2023-09-07             s                           s         1   \n2    2023-09-06        Bantul               DI Yogyakarta     55791   \n3    2023-09-09         Yogja                          we     42441   \n4    2023-10-27             s                           d         1   \n5    2025-03-01  Penisvanilla              West Virginia      69420   \n6    2006-09-14        Medan               Sumatra utara     227323   \n7    2003-06-22    Yogyakarta  Daerah Istimewa Yogyakarta     55563   \n\n   Jumlah pesanan Jeruk :  Jumlah pesanan Salak:  Jumlah pesanan Rambutan:  \\\n1                    0.01               0.000000                    0.0000   \n2                    0.01               0.000000                    0.0000   \n3                    0.00               0.306667                    0.0004   \n4                    0.00               0.000000                    1.0000   \n5                    0.02               0.040000                    0.0004   \n6                    0.02               0.053333                    0.0001   \n7                    1.00               1.000000                    0.0020   \n\n   Jumlah pesanan Kelengkeng :  Jumlah pesanan Blimbing :  Harga Total  \n1                         0.20                   0.000000     0.000650  \n2                         0.00                   0.000000     0.000000  \n3                         0.00                   0.352941     0.003095  \n4                         0.00                   0.000000     1.000000  \n5                         0.10                   0.000000     0.001000  \n6                         0.04                   0.088235     0.000835  \n7                         1.00                   1.000000     0.018716  ",
      "text/html": "<div>\n<style scoped>\n    .dataframe tbody tr th:only-of-type {\n        vertical-align: middle;\n    }\n\n    .dataframe tbody tr th {\n        vertical-align: top;\n    }\n\n    .dataframe thead th {\n        text-align: right;\n    }\n</style>\n<table border=\"1\" class=\"dataframe\">\n  <thead>\n    <tr style=\"text-align: right;\">\n      <th></th>\n      <th>Timestamp</th>\n      <th>Nama</th>\n      <th>NIM</th>\n      <th>Jenis Kelamin</th>\n      <th>Tanggal Lahir</th>\n      <th>Kota</th>\n      <th>Provinsi</th>\n      <th>Kode POS</th>\n      <th>Jumlah pesanan Jeruk :</th>\n      <th>Jumlah pesanan Salak:</th>\n      <th>Jumlah pesanan Rambutan:</th>\n      <th>Jumlah pesanan Kelengkeng :</th>\n      <th>Jumlah pesanan Blimbing :</th>\n      <th>Harga Total</th>\n    </tr>\n  </thead>\n  <tbody>\n    <tr>\n      <th>1</th>\n      <td>2023/09/06 11:53:20 AM GMT+7</td>\n      <td>R</td>\n      <td>1</td>\n      <td>Wanita</td>\n      <td>2023-09-07</td>\n      <td>s</td>\n      <td>s</td>\n      <td>1</td>\n      <td>0.01</td>\n      <td>0.000000</td>\n      <td>0.0000</td>\n      <td>0.20</td>\n      <td>0.000000</td>\n      <td>0.000650</td>\n    </tr>\n    <tr>\n      <th>2</th>\n      <td>2023/09/06 11:56:47 AM GMT+7</td>\n      <td>Heksaloga</td>\n      <td>215314212</td>\n      <td>Pria</td>\n      <td>2023-09-06</td>\n      <td>Bantul</td>\n      <td>DI Yogyakarta</td>\n      <td>55791</td>\n      <td>0.01</td>\n      <td>0.000000</td>\n      <td>0.0000</td>\n      <td>0.00</td>\n      <td>0.000000</td>\n      <td>0.000000</td>\n    </tr>\n    <tr>\n      <th>3</th>\n      <td>2023/09/06 11:58:36 AM GMT+7</td>\n      <td>unknown</td>\n      <td>0</td>\n      <td>Wanita</td>\n      <td>2023-09-09</td>\n      <td>Yogja</td>\n      <td>we</td>\n      <td>42441</td>\n      <td>0.00</td>\n      <td>0.306667</td>\n      <td>0.0004</td>\n      <td>0.00</td>\n      <td>0.352941</td>\n      <td>0.003095</td>\n    </tr>\n    <tr>\n      <th>4</th>\n      <td>2023/09/06 12:07:04 PM GMT+7</td>\n      <td>R</td>\n      <td>1</td>\n      <td>Pria</td>\n      <td>2023-10-27</td>\n      <td>s</td>\n      <td>d</td>\n      <td>1</td>\n      <td>0.00</td>\n      <td>0.000000</td>\n      <td>1.0000</td>\n      <td>0.00</td>\n      <td>0.000000</td>\n      <td>1.000000</td>\n    </tr>\n    <tr>\n      <th>5</th>\n      <td>2023/09/06 12:08:10 PM GMT+7</td>\n      <td>Rahul</td>\n      <td>215151515</td>\n      <td>Wanita</td>\n      <td>2025-03-01</td>\n      <td>Penisvanilla</td>\n      <td>West Virginia</td>\n      <td>69420</td>\n      <td>0.02</td>\n      <td>0.040000</td>\n      <td>0.0004</td>\n      <td>0.10</td>\n      <td>0.000000</td>\n      <td>0.001000</td>\n    </tr>\n    <tr>\n      <th>6</th>\n      <td>2023/09/06 1:04:58 PM GMT+7</td>\n      <td>Wenda</td>\n      <td>215314190</td>\n      <td>Wanita</td>\n      <td>2006-09-14</td>\n      <td>Medan</td>\n      <td>Sumatra utara</td>\n      <td>227323</td>\n      <td>0.02</td>\n      <td>0.053333</td>\n      <td>0.0001</td>\n      <td>0.04</td>\n      <td>0.088235</td>\n      <td>0.000835</td>\n    </tr>\n    <tr>\n      <th>7</th>\n      <td>2023/09/07 7:54:39 PM GMT+7</td>\n      <td>Giacinta</td>\n      <td>215314211</td>\n      <td>Wanita</td>\n      <td>2003-06-22</td>\n      <td>Yogyakarta</td>\n      <td>Daerah Istimewa Yogyakarta</td>\n      <td>55563</td>\n      <td>1.00</td>\n      <td>1.000000</td>\n      <td>0.0020</td>\n      <td>1.00</td>\n      <td>1.000000</td>\n      <td>0.018716</td>\n    </tr>\n  </tbody>\n</table>\n</div>"
     },
     "execution_count": 48,
     "metadata": {},
     "output_type": "execute_result"
    }
   ],
   "source": [
    "df2 = df.copy()\n",
    "min_harga_total = df2['Harga Total'].min()\n",
    "max_harga_total = df2['Harga Total'].max()\n",
    "df2['Harga Total'] = (df2['Harga Total'] - min_harga_total) / (max_harga_total - min_harga_total)\n",
    "\n",
    "# Perform min-max normalization on \"Jumlah\" columns\n",
    "for col in jumlah_columns:\n",
    "    min_val = df2[col].min()\n",
    "    max_val = df2[col].max()\n",
    "    df2[col] = (df2[col] - min_val) / (max_val - min_val)\n",
    "\n",
    "# Save the cleaned and normalized DataFrame to a new CSV file\n",
    "df2.to_csv('minMaxNormalized_data.csv', index=False)\n",
    "df2.head(10)"
   ],
   "metadata": {
    "collapsed": false,
    "ExecuteTime": {
     "end_time": "2023-09-10T13:43:55.342186200Z",
     "start_time": "2023-09-10T13:43:55.183237200Z"
    }
   },
   "id": "83f40e71e88931c"
  },
  {
   "cell_type": "code",
   "execution_count": 49,
   "outputs": [
    {
     "data": {
      "text/plain": "                      Timestamp       Nama        NIM Jenis Kelamin  \\\n1  2023/09/06 11:53:20 AM GMT+7          R          1        Wanita   \n2  2023/09/06 11:56:47 AM GMT+7  Heksaloga  215314212          Pria   \n3  2023/09/06 11:58:36 AM GMT+7    unknown          0        Wanita   \n4  2023/09/06 12:07:04 PM GMT+7          R          1          Pria   \n5  2023/09/06 12:08:10 PM GMT+7      Rahul  215151515        Wanita   \n6   2023/09/06 1:04:58 PM GMT+7     Wenda   215314190        Wanita   \n7   2023/09/07 7:54:39 PM GMT+7   Giacinta  215314211        Wanita   \n\n  Tanggal Lahir          Kota                    Provinsi  Kode POS  \\\n1    2023-09-07             s                           s         1   \n2    2023-09-06        Bantul               DI Yogyakarta     55791   \n3    2023-09-09         Yogja                          we     42441   \n4    2023-10-27             s                           d         1   \n5    2025-03-01  Penisvanilla              West Virginia      69420   \n6    2006-09-14        Medan               Sumatra utara     227323   \n7    2003-06-22    Yogyakarta  Daerah Istimewa Yogyakarta     55563   \n\n   Jumlah pesanan Jeruk :  Jumlah pesanan Salak:  Jumlah pesanan Rambutan:  \\\n1               -0.377875              -0.541501                 -0.379243   \n2               -0.377875              -0.541501                 -0.379243   \n3               -0.404593               0.288801                 -0.378184   \n4               -0.404593              -0.541501                  2.267783   \n5               -0.351156              -0.433201                 -0.378184   \n6               -0.351156              -0.397101                 -0.378979   \n7                2.267247               2.166004                 -0.373949   \n\n   Jumlah pesanan Kelengkeng :  Jumlah pesanan Blimbing :  Harga Total  \n1                     0.023546                  -0.551677    -0.386935  \n2                    -0.525866                  -0.551677    -0.388661  \n3                    -0.525866                   0.394055    -0.380440  \n4                    -0.525866                  -0.551677     2.267435  \n5                    -0.251160                  -0.551677    -0.386005  \n6                    -0.415984                  -0.315244    -0.386443  \n7                     2.221197                   2.127898    -0.338950  ",
      "text/html": "<div>\n<style scoped>\n    .dataframe tbody tr th:only-of-type {\n        vertical-align: middle;\n    }\n\n    .dataframe tbody tr th {\n        vertical-align: top;\n    }\n\n    .dataframe thead th {\n        text-align: right;\n    }\n</style>\n<table border=\"1\" class=\"dataframe\">\n  <thead>\n    <tr style=\"text-align: right;\">\n      <th></th>\n      <th>Timestamp</th>\n      <th>Nama</th>\n      <th>NIM</th>\n      <th>Jenis Kelamin</th>\n      <th>Tanggal Lahir</th>\n      <th>Kota</th>\n      <th>Provinsi</th>\n      <th>Kode POS</th>\n      <th>Jumlah pesanan Jeruk :</th>\n      <th>Jumlah pesanan Salak:</th>\n      <th>Jumlah pesanan Rambutan:</th>\n      <th>Jumlah pesanan Kelengkeng :</th>\n      <th>Jumlah pesanan Blimbing :</th>\n      <th>Harga Total</th>\n    </tr>\n  </thead>\n  <tbody>\n    <tr>\n      <th>1</th>\n      <td>2023/09/06 11:53:20 AM GMT+7</td>\n      <td>R</td>\n      <td>1</td>\n      <td>Wanita</td>\n      <td>2023-09-07</td>\n      <td>s</td>\n      <td>s</td>\n      <td>1</td>\n      <td>-0.377875</td>\n      <td>-0.541501</td>\n      <td>-0.379243</td>\n      <td>0.023546</td>\n      <td>-0.551677</td>\n      <td>-0.386935</td>\n    </tr>\n    <tr>\n      <th>2</th>\n      <td>2023/09/06 11:56:47 AM GMT+7</td>\n      <td>Heksaloga</td>\n      <td>215314212</td>\n      <td>Pria</td>\n      <td>2023-09-06</td>\n      <td>Bantul</td>\n      <td>DI Yogyakarta</td>\n      <td>55791</td>\n      <td>-0.377875</td>\n      <td>-0.541501</td>\n      <td>-0.379243</td>\n      <td>-0.525866</td>\n      <td>-0.551677</td>\n      <td>-0.388661</td>\n    </tr>\n    <tr>\n      <th>3</th>\n      <td>2023/09/06 11:58:36 AM GMT+7</td>\n      <td>unknown</td>\n      <td>0</td>\n      <td>Wanita</td>\n      <td>2023-09-09</td>\n      <td>Yogja</td>\n      <td>we</td>\n      <td>42441</td>\n      <td>-0.404593</td>\n      <td>0.288801</td>\n      <td>-0.378184</td>\n      <td>-0.525866</td>\n      <td>0.394055</td>\n      <td>-0.380440</td>\n    </tr>\n    <tr>\n      <th>4</th>\n      <td>2023/09/06 12:07:04 PM GMT+7</td>\n      <td>R</td>\n      <td>1</td>\n      <td>Pria</td>\n      <td>2023-10-27</td>\n      <td>s</td>\n      <td>d</td>\n      <td>1</td>\n      <td>-0.404593</td>\n      <td>-0.541501</td>\n      <td>2.267783</td>\n      <td>-0.525866</td>\n      <td>-0.551677</td>\n      <td>2.267435</td>\n    </tr>\n    <tr>\n      <th>5</th>\n      <td>2023/09/06 12:08:10 PM GMT+7</td>\n      <td>Rahul</td>\n      <td>215151515</td>\n      <td>Wanita</td>\n      <td>2025-03-01</td>\n      <td>Penisvanilla</td>\n      <td>West Virginia</td>\n      <td>69420</td>\n      <td>-0.351156</td>\n      <td>-0.433201</td>\n      <td>-0.378184</td>\n      <td>-0.251160</td>\n      <td>-0.551677</td>\n      <td>-0.386005</td>\n    </tr>\n    <tr>\n      <th>6</th>\n      <td>2023/09/06 1:04:58 PM GMT+7</td>\n      <td>Wenda</td>\n      <td>215314190</td>\n      <td>Wanita</td>\n      <td>2006-09-14</td>\n      <td>Medan</td>\n      <td>Sumatra utara</td>\n      <td>227323</td>\n      <td>-0.351156</td>\n      <td>-0.397101</td>\n      <td>-0.378979</td>\n      <td>-0.415984</td>\n      <td>-0.315244</td>\n      <td>-0.386443</td>\n    </tr>\n    <tr>\n      <th>7</th>\n      <td>2023/09/07 7:54:39 PM GMT+7</td>\n      <td>Giacinta</td>\n      <td>215314211</td>\n      <td>Wanita</td>\n      <td>2003-06-22</td>\n      <td>Yogyakarta</td>\n      <td>Daerah Istimewa Yogyakarta</td>\n      <td>55563</td>\n      <td>2.267247</td>\n      <td>2.166004</td>\n      <td>-0.373949</td>\n      <td>2.221197</td>\n      <td>2.127898</td>\n      <td>-0.338950</td>\n    </tr>\n  </tbody>\n</table>\n</div>"
     },
     "execution_count": 49,
     "metadata": {},
     "output_type": "execute_result"
    }
   ],
   "source": [
    "df3 = df.copy()\n",
    "# Z-score normalization on \"Harga Total\" column\n",
    "mean_harga_total = df3['Harga Total'].mean()\n",
    "std_harga_total = df3['Harga Total'].std()\n",
    "df3['Harga Total'] = (df3['Harga Total'] - mean_harga_total) / std_harga_total\n",
    "\n",
    "# Z-score normalization on \"Jumlah\" columns\n",
    "for col in jumlah_columns:\n",
    "    mean_val = df3[col].mean()\n",
    "    std_val = df3[col].std()\n",
    "    df3[col] = (df3[col] - mean_val) / std_val\n",
    "\n",
    "# Save the cleaned and normalized DataFrame to a new CSV file\n",
    "df3.to_csv('zScoreNormalized_data.csv', index=False)\n",
    "df3.head(10)"
   ],
   "metadata": {
    "collapsed": false,
    "ExecuteTime": {
     "end_time": "2023-09-10T13:43:55.439101200Z",
     "start_time": "2023-09-10T13:43:55.211778Z"
    }
   },
   "id": "571d69e596d3ceae"
  }
 ],
 "metadata": {
  "kernelspec": {
   "display_name": "Python 3",
   "language": "python",
   "name": "python3"
  },
  "language_info": {
   "codemirror_mode": {
    "name": "ipython",
    "version": 2
   },
   "file_extension": ".py",
   "mimetype": "text/x-python",
   "name": "python",
   "nbconvert_exporter": "python",
   "pygments_lexer": "ipython2",
   "version": "2.7.6"
  }
 },
 "nbformat": 4,
 "nbformat_minor": 5
}
