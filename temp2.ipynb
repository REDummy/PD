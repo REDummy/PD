{
 "cells": [
  {
   "cell_type": "code",
   "execution_count": 17,
   "id": "initial_id",
   "metadata": {
    "collapsed": true,
    "ExecuteTime": {
     "end_time": "2023-09-12T16:10:45.320568100Z",
     "start_time": "2023-09-12T16:10:45.277675800Z"
    }
   },
   "outputs": [],
   "source": [
    "import pandas as pd\n",
    "import numpy as np"
   ]
  },
  {
   "cell_type": "code",
   "execution_count": 18,
   "outputs": [
    {
     "data": {
      "text/plain": "                       Timestamp           Nama              NIM  \\\n0   2023/09/06 11:51:23 AM GMT+7               R               1   \n1   2023/09/06 11:53:20 AM GMT+7               R               1   \n2   2023/09/06 11:56:47 AM GMT+7       Heksaloga       215314212   \n3   2023/09/06 11:58:36 AM GMT+7         unknown               0   \n4   2023/09/06 12:07:04 PM GMT+7               R               1   \n5   2023/09/06 12:08:10 PM GMT+7           Rahul       215151515   \n6    2023/09/06 1:04:58 PM GMT+7          Wenda        215314190   \n7    2023/09/07 7:54:39 PM GMT+7        Giacinta       215314211   \n8   2023/09/11 11:32:00 AM GMT+7  Prischia Ballo       215314166   \n9   2023/09/11 11:33:03 AM GMT+7       Adrianus   13040221130064   \n10  2023/09/11 11:48:40 AM GMT+7         Annaya        215314412   \n\n   Jenis Kelamin Tanggal Lahir          Kota                    Provinsi  \\\n0           Pria    2023-09-07             s                           d   \n1         Wanita    2023-09-07             s                           s   \n2           Pria    2023-09-06        Bantul               DI Yogyakarta   \n3         Wanita    2023-09-09         Yogja                          we   \n4           Pria    2023-10-27             s                           d   \n5         Wanita    2025-03-01  Penisvanilla              West Virginia    \n6         Wanita    2006-09-14        Medan               Sumatra utara    \n7         Wanita    2003-06-22    Yogyakarta  Daerah Istimewa Yogyakarta   \n8         Wanita    2004-04-20    Yogyakarta  Daerah Istimewa Yogyakarta   \n9           Pria    2002-12-27      Semarang                 Jawa Tengah   \n10        Wanita    2003-01-04   Kab. Serang                      Banten   \n\n   Kode POS  Jumlah pesanan Jeruk :  Jumlah pesanan Salak:   \\\n0         1                   -1.00                     0.0   \n1         1                    1.00                     0.0   \n2     55791                    1.00                     0.0   \n3     42441                    0.00                    23.0   \n4         1                    0.00                     0.0   \n5     69420                    2.00                     3.0   \n6    227323                    2.00                     4.0   \n7     55563                  100.00                    75.0   \n8     55584                    3.00                    10.0   \n9   forgor💀                    9.11                     3.0   \n10    42182                    5.00                     1.0   \n\n    Jumlah pesanan Rambutan:   Jumlah pesanan Kelengkeng :  \\\n0                         7.0                          NaN   \n1                         0.0                         10.0   \n2                         0.0                          0.0   \n3                         4.0                          0.0   \n4                     10000.0                          NaN   \n5                         4.0                          5.0   \n6                         1.0                          2.0   \n7                        20.0                         50.0   \n8                         7.0                          2.0   \n9                         9.6                          4.2   \n10                        2.0                          3.0   \n\n    Jumlah pesanan Blimbing : Harga Total  \n0                         NaN  engga tahu  \n1                         NaN      140000  \n2                        0.00       10000  \n3                       12.00      629000  \n4                         NaN   200000000  \n5                        0.00      210000  \n6                        3.00      177000  \n7                       34.00     3753000  \n8                        4.00      414000  \n9                        9.11      537570  \n10                       0.00      144000  ",
      "text/html": "<div>\n<style scoped>\n    .dataframe tbody tr th:only-of-type {\n        vertical-align: middle;\n    }\n\n    .dataframe tbody tr th {\n        vertical-align: top;\n    }\n\n    .dataframe thead th {\n        text-align: right;\n    }\n</style>\n<table border=\"1\" class=\"dataframe\">\n  <thead>\n    <tr style=\"text-align: right;\">\n      <th></th>\n      <th>Timestamp</th>\n      <th>Nama</th>\n      <th>NIM</th>\n      <th>Jenis Kelamin</th>\n      <th>Tanggal Lahir</th>\n      <th>Kota</th>\n      <th>Provinsi</th>\n      <th>Kode POS</th>\n      <th>Jumlah pesanan Jeruk :</th>\n      <th>Jumlah pesanan Salak:</th>\n      <th>Jumlah pesanan Rambutan:</th>\n      <th>Jumlah pesanan Kelengkeng :</th>\n      <th>Jumlah pesanan Blimbing :</th>\n      <th>Harga Total</th>\n    </tr>\n  </thead>\n  <tbody>\n    <tr>\n      <th>0</th>\n      <td>2023/09/06 11:51:23 AM GMT+7</td>\n      <td>R</td>\n      <td>1</td>\n      <td>Pria</td>\n      <td>2023-09-07</td>\n      <td>s</td>\n      <td>d</td>\n      <td>1</td>\n      <td>-1.00</td>\n      <td>0.0</td>\n      <td>7.0</td>\n      <td>NaN</td>\n      <td>NaN</td>\n      <td>engga tahu</td>\n    </tr>\n    <tr>\n      <th>1</th>\n      <td>2023/09/06 11:53:20 AM GMT+7</td>\n      <td>R</td>\n      <td>1</td>\n      <td>Wanita</td>\n      <td>2023-09-07</td>\n      <td>s</td>\n      <td>s</td>\n      <td>1</td>\n      <td>1.00</td>\n      <td>0.0</td>\n      <td>0.0</td>\n      <td>10.0</td>\n      <td>NaN</td>\n      <td>140000</td>\n    </tr>\n    <tr>\n      <th>2</th>\n      <td>2023/09/06 11:56:47 AM GMT+7</td>\n      <td>Heksaloga</td>\n      <td>215314212</td>\n      <td>Pria</td>\n      <td>2023-09-06</td>\n      <td>Bantul</td>\n      <td>DI Yogyakarta</td>\n      <td>55791</td>\n      <td>1.00</td>\n      <td>0.0</td>\n      <td>0.0</td>\n      <td>0.0</td>\n      <td>0.00</td>\n      <td>10000</td>\n    </tr>\n    <tr>\n      <th>3</th>\n      <td>2023/09/06 11:58:36 AM GMT+7</td>\n      <td>unknown</td>\n      <td>0</td>\n      <td>Wanita</td>\n      <td>2023-09-09</td>\n      <td>Yogja</td>\n      <td>we</td>\n      <td>42441</td>\n      <td>0.00</td>\n      <td>23.0</td>\n      <td>4.0</td>\n      <td>0.0</td>\n      <td>12.00</td>\n      <td>629000</td>\n    </tr>\n    <tr>\n      <th>4</th>\n      <td>2023/09/06 12:07:04 PM GMT+7</td>\n      <td>R</td>\n      <td>1</td>\n      <td>Pria</td>\n      <td>2023-10-27</td>\n      <td>s</td>\n      <td>d</td>\n      <td>1</td>\n      <td>0.00</td>\n      <td>0.0</td>\n      <td>10000.0</td>\n      <td>NaN</td>\n      <td>NaN</td>\n      <td>200000000</td>\n    </tr>\n    <tr>\n      <th>5</th>\n      <td>2023/09/06 12:08:10 PM GMT+7</td>\n      <td>Rahul</td>\n      <td>215151515</td>\n      <td>Wanita</td>\n      <td>2025-03-01</td>\n      <td>Penisvanilla</td>\n      <td>West Virginia</td>\n      <td>69420</td>\n      <td>2.00</td>\n      <td>3.0</td>\n      <td>4.0</td>\n      <td>5.0</td>\n      <td>0.00</td>\n      <td>210000</td>\n    </tr>\n    <tr>\n      <th>6</th>\n      <td>2023/09/06 1:04:58 PM GMT+7</td>\n      <td>Wenda</td>\n      <td>215314190</td>\n      <td>Wanita</td>\n      <td>2006-09-14</td>\n      <td>Medan</td>\n      <td>Sumatra utara</td>\n      <td>227323</td>\n      <td>2.00</td>\n      <td>4.0</td>\n      <td>1.0</td>\n      <td>2.0</td>\n      <td>3.00</td>\n      <td>177000</td>\n    </tr>\n    <tr>\n      <th>7</th>\n      <td>2023/09/07 7:54:39 PM GMT+7</td>\n      <td>Giacinta</td>\n      <td>215314211</td>\n      <td>Wanita</td>\n      <td>2003-06-22</td>\n      <td>Yogyakarta</td>\n      <td>Daerah Istimewa Yogyakarta</td>\n      <td>55563</td>\n      <td>100.00</td>\n      <td>75.0</td>\n      <td>20.0</td>\n      <td>50.0</td>\n      <td>34.00</td>\n      <td>3753000</td>\n    </tr>\n    <tr>\n      <th>8</th>\n      <td>2023/09/11 11:32:00 AM GMT+7</td>\n      <td>Prischia Ballo</td>\n      <td>215314166</td>\n      <td>Wanita</td>\n      <td>2004-04-20</td>\n      <td>Yogyakarta</td>\n      <td>Daerah Istimewa Yogyakarta</td>\n      <td>55584</td>\n      <td>3.00</td>\n      <td>10.0</td>\n      <td>7.0</td>\n      <td>2.0</td>\n      <td>4.00</td>\n      <td>414000</td>\n    </tr>\n    <tr>\n      <th>9</th>\n      <td>2023/09/11 11:33:03 AM GMT+7</td>\n      <td>Adrianus</td>\n      <td>13040221130064</td>\n      <td>Pria</td>\n      <td>2002-12-27</td>\n      <td>Semarang</td>\n      <td>Jawa Tengah</td>\n      <td>forgor💀</td>\n      <td>9.11</td>\n      <td>3.0</td>\n      <td>9.6</td>\n      <td>4.2</td>\n      <td>9.11</td>\n      <td>537570</td>\n    </tr>\n    <tr>\n      <th>10</th>\n      <td>2023/09/11 11:48:40 AM GMT+7</td>\n      <td>Annaya</td>\n      <td>215314412</td>\n      <td>Wanita</td>\n      <td>2003-01-04</td>\n      <td>Kab. Serang</td>\n      <td>Banten</td>\n      <td>42182</td>\n      <td>5.00</td>\n      <td>1.0</td>\n      <td>2.0</td>\n      <td>3.0</td>\n      <td>0.00</td>\n      <td>144000</td>\n    </tr>\n  </tbody>\n</table>\n</div>"
     },
     "execution_count": 18,
     "metadata": {},
     "output_type": "execute_result"
    }
   ],
   "source": [
    "# Load the CSV file into a DataFrame\n",
    "df = pd.read_csv('Toko Buah _MELON ;)_.csv', delimiter=',')\n",
    "df.head(20)"
   ],
   "metadata": {
    "collapsed": false,
    "ExecuteTime": {
     "end_time": "2023-09-12T16:10:45.329066700Z",
     "start_time": "2023-09-12T16:10:45.297636Z"
    }
   },
   "id": "8d725979632309f5"
  },
  {
   "cell_type": "code",
   "execution_count": 19,
   "outputs": [],
   "source": [
    "df['']"
   ],
   "metadata": {
    "collapsed": false,
    "ExecuteTime": {
     "end_time": "2023-09-12T16:10:45.341352100Z",
     "start_time": "2023-09-12T16:10:45.327054800Z"
    }
   },
   "id": "235931f9f92ed2ca"
  },
  {
   "cell_type": "code",
   "execution_count": 20,
   "outputs": [
    {
     "data": {
      "text/plain": "                      Timestamp           Nama              NIM Jenis Kelamin  \\\n0  2023/09/06 11:51:23 AM GMT+7               R               1          Pria   \n1  2023/09/06 11:53:20 AM GMT+7               R               1        Wanita   \n2  2023/09/06 11:56:47 AM GMT+7       Heksaloga       215314212          Pria   \n3  2023/09/06 11:58:36 AM GMT+7         unknown               0        Wanita   \n4  2023/09/06 12:07:04 PM GMT+7               R               1          Pria   \n5  2023/09/06 12:08:10 PM GMT+7           Rahul       215151515        Wanita   \n6   2023/09/06 1:04:58 PM GMT+7          Wenda        215314190        Wanita   \n7   2023/09/07 7:54:39 PM GMT+7        Giacinta       215314211        Wanita   \n8  2023/09/11 11:32:00 AM GMT+7  Prischia Ballo       215314166        Wanita   \n9  2023/09/11 11:33:03 AM GMT+7       Adrianus   13040221130064          Pria   \n\n  Tanggal Lahir          Kota                    Provinsi  Kode POS  \\\n0    2023-09-07             s                           d       1.0   \n1    2023-09-07             s                           s       1.0   \n2    2023-09-06        Bantul               DI Yogyakarta   55791.0   \n3    2023-09-09         Yogja                          we   42441.0   \n4    2023-10-27             s                           d       1.0   \n5    2025-03-01  Penisvanilla              West Virginia    69420.0   \n6    2006-09-14        Medan               Sumatra utara   227323.0   \n7    2003-06-22    Yogyakarta  Daerah Istimewa Yogyakarta   55563.0   \n8    2004-04-20    Yogyakarta  Daerah Istimewa Yogyakarta   55584.0   \n9    2002-12-27      Semarang                 Jawa Tengah       NaN   \n\n   Jumlah pesanan Jeruk :  Jumlah pesanan Salak:   Jumlah pesanan Rambutan:   \\\n0                   -1.00                     0.0                        7.0   \n1                    1.00                     0.0                        0.0   \n2                    1.00                     0.0                        0.0   \n3                    0.00                    23.0                        4.0   \n4                    0.00                     0.0                    10000.0   \n5                    2.00                     3.0                        4.0   \n6                    2.00                     4.0                        1.0   \n7                  100.00                    75.0                       20.0   \n8                    3.00                    10.0                        7.0   \n9                    9.11                     3.0                        9.6   \n\n   Jumlah pesanan Kelengkeng :  Jumlah pesanan Blimbing :  Harga Total  \n0                          NaN                        NaN          NaN  \n1                         10.0                        NaN     140000.0  \n2                          0.0                       0.00      10000.0  \n3                          0.0                      12.00     629000.0  \n4                          NaN                        NaN  200000000.0  \n5                          5.0                       0.00     210000.0  \n6                          2.0                       3.00     177000.0  \n7                         50.0                      34.00    3753000.0  \n8                          2.0                       4.00     414000.0  \n9                          4.2                       9.11     537570.0  ",
      "text/html": "<div>\n<style scoped>\n    .dataframe tbody tr th:only-of-type {\n        vertical-align: middle;\n    }\n\n    .dataframe tbody tr th {\n        vertical-align: top;\n    }\n\n    .dataframe thead th {\n        text-align: right;\n    }\n</style>\n<table border=\"1\" class=\"dataframe\">\n  <thead>\n    <tr style=\"text-align: right;\">\n      <th></th>\n      <th>Timestamp</th>\n      <th>Nama</th>\n      <th>NIM</th>\n      <th>Jenis Kelamin</th>\n      <th>Tanggal Lahir</th>\n      <th>Kota</th>\n      <th>Provinsi</th>\n      <th>Kode POS</th>\n      <th>Jumlah pesanan Jeruk :</th>\n      <th>Jumlah pesanan Salak:</th>\n      <th>Jumlah pesanan Rambutan:</th>\n      <th>Jumlah pesanan Kelengkeng :</th>\n      <th>Jumlah pesanan Blimbing :</th>\n      <th>Harga Total</th>\n    </tr>\n  </thead>\n  <tbody>\n    <tr>\n      <th>0</th>\n      <td>2023/09/06 11:51:23 AM GMT+7</td>\n      <td>R</td>\n      <td>1</td>\n      <td>Pria</td>\n      <td>2023-09-07</td>\n      <td>s</td>\n      <td>d</td>\n      <td>1.0</td>\n      <td>-1.00</td>\n      <td>0.0</td>\n      <td>7.0</td>\n      <td>NaN</td>\n      <td>NaN</td>\n      <td>NaN</td>\n    </tr>\n    <tr>\n      <th>1</th>\n      <td>2023/09/06 11:53:20 AM GMT+7</td>\n      <td>R</td>\n      <td>1</td>\n      <td>Wanita</td>\n      <td>2023-09-07</td>\n      <td>s</td>\n      <td>s</td>\n      <td>1.0</td>\n      <td>1.00</td>\n      <td>0.0</td>\n      <td>0.0</td>\n      <td>10.0</td>\n      <td>NaN</td>\n      <td>140000.0</td>\n    </tr>\n    <tr>\n      <th>2</th>\n      <td>2023/09/06 11:56:47 AM GMT+7</td>\n      <td>Heksaloga</td>\n      <td>215314212</td>\n      <td>Pria</td>\n      <td>2023-09-06</td>\n      <td>Bantul</td>\n      <td>DI Yogyakarta</td>\n      <td>55791.0</td>\n      <td>1.00</td>\n      <td>0.0</td>\n      <td>0.0</td>\n      <td>0.0</td>\n      <td>0.00</td>\n      <td>10000.0</td>\n    </tr>\n    <tr>\n      <th>3</th>\n      <td>2023/09/06 11:58:36 AM GMT+7</td>\n      <td>unknown</td>\n      <td>0</td>\n      <td>Wanita</td>\n      <td>2023-09-09</td>\n      <td>Yogja</td>\n      <td>we</td>\n      <td>42441.0</td>\n      <td>0.00</td>\n      <td>23.0</td>\n      <td>4.0</td>\n      <td>0.0</td>\n      <td>12.00</td>\n      <td>629000.0</td>\n    </tr>\n    <tr>\n      <th>4</th>\n      <td>2023/09/06 12:07:04 PM GMT+7</td>\n      <td>R</td>\n      <td>1</td>\n      <td>Pria</td>\n      <td>2023-10-27</td>\n      <td>s</td>\n      <td>d</td>\n      <td>1.0</td>\n      <td>0.00</td>\n      <td>0.0</td>\n      <td>10000.0</td>\n      <td>NaN</td>\n      <td>NaN</td>\n      <td>200000000.0</td>\n    </tr>\n    <tr>\n      <th>5</th>\n      <td>2023/09/06 12:08:10 PM GMT+7</td>\n      <td>Rahul</td>\n      <td>215151515</td>\n      <td>Wanita</td>\n      <td>2025-03-01</td>\n      <td>Penisvanilla</td>\n      <td>West Virginia</td>\n      <td>69420.0</td>\n      <td>2.00</td>\n      <td>3.0</td>\n      <td>4.0</td>\n      <td>5.0</td>\n      <td>0.00</td>\n      <td>210000.0</td>\n    </tr>\n    <tr>\n      <th>6</th>\n      <td>2023/09/06 1:04:58 PM GMT+7</td>\n      <td>Wenda</td>\n      <td>215314190</td>\n      <td>Wanita</td>\n      <td>2006-09-14</td>\n      <td>Medan</td>\n      <td>Sumatra utara</td>\n      <td>227323.0</td>\n      <td>2.00</td>\n      <td>4.0</td>\n      <td>1.0</td>\n      <td>2.0</td>\n      <td>3.00</td>\n      <td>177000.0</td>\n    </tr>\n    <tr>\n      <th>7</th>\n      <td>2023/09/07 7:54:39 PM GMT+7</td>\n      <td>Giacinta</td>\n      <td>215314211</td>\n      <td>Wanita</td>\n      <td>2003-06-22</td>\n      <td>Yogyakarta</td>\n      <td>Daerah Istimewa Yogyakarta</td>\n      <td>55563.0</td>\n      <td>100.00</td>\n      <td>75.0</td>\n      <td>20.0</td>\n      <td>50.0</td>\n      <td>34.00</td>\n      <td>3753000.0</td>\n    </tr>\n    <tr>\n      <th>8</th>\n      <td>2023/09/11 11:32:00 AM GMT+7</td>\n      <td>Prischia Ballo</td>\n      <td>215314166</td>\n      <td>Wanita</td>\n      <td>2004-04-20</td>\n      <td>Yogyakarta</td>\n      <td>Daerah Istimewa Yogyakarta</td>\n      <td>55584.0</td>\n      <td>3.00</td>\n      <td>10.0</td>\n      <td>7.0</td>\n      <td>2.0</td>\n      <td>4.00</td>\n      <td>414000.0</td>\n    </tr>\n    <tr>\n      <th>9</th>\n      <td>2023/09/11 11:33:03 AM GMT+7</td>\n      <td>Adrianus</td>\n      <td>13040221130064</td>\n      <td>Pria</td>\n      <td>2002-12-27</td>\n      <td>Semarang</td>\n      <td>Jawa Tengah</td>\n      <td>NaN</td>\n      <td>9.11</td>\n      <td>3.0</td>\n      <td>9.6</td>\n      <td>4.2</td>\n      <td>9.11</td>\n      <td>537570.0</td>\n    </tr>\n  </tbody>\n</table>\n</div>"
     },
     "execution_count": 20,
     "metadata": {},
     "output_type": "execute_result"
    }
   ],
   "source": [
    "df['Harga Total'] = pd.to_numeric(df['Harga Total'], errors='coerce')\n",
    "df.head(10)"
   ],
   "metadata": {
    "collapsed": false,
    "ExecuteTime": {
     "end_time": "2023-09-12T16:10:45.416660500Z",
     "start_time": "2023-09-12T16:10:45.342361600Z"
    }
   },
   "id": "426dc12ac86f3f03"
  },
  {
   "cell_type": "code",
   "execution_count": 21,
   "outputs": [
    {
     "data": {
      "text/plain": "                      Timestamp            Nama             NIM Jenis Kelamin  \\\n0  2023/09/06 11:51:23 AM GMT+7               R               1          Pria   \n1  2023/09/06 11:53:20 AM GMT+7               R               1        Wanita   \n2  2023/09/06 11:56:47 AM GMT+7       Heksaloga       215314212          Pria   \n3  2023/09/06 11:58:36 AM GMT+7         unknown               0        Wanita   \n4  2023/09/06 12:07:04 PM GMT+7               R               1          Pria   \n5  2023/09/06 12:08:10 PM GMT+7           Rahul       215151515        Wanita   \n6   2023/09/06 1:04:58 PM GMT+7          Wenda        215314190        Wanita   \n7   2023/09/07 7:54:39 PM GMT+7        Giacinta       215314211        Wanita   \n8  2023/09/11 11:32:00 AM GMT+7  Prischia Ballo       215314166        Wanita   \n9  2023/09/11 11:33:03 AM GMT+7       Adrianus   13040221130064          Pria   \n\n  Tanggal Lahir          Kota                    Provinsi  Kode POS  \\\n0    2023-09-07             s                           d       1.0   \n1    2023-09-07             s                           s       1.0   \n2    2023-09-06        Bantul               DI Yogyakarta   55791.0   \n3    2023-09-09         Yogja                          we   42441.0   \n4    2023-10-27             s                           d       1.0   \n5    2025-03-01  Penisvanilla              West Virginia    69420.0   \n6    2006-09-14        Medan               Sumatra utara   227323.0   \n7    2003-06-22    Yogyakarta  Daerah Istimewa Yogyakarta   55563.0   \n8    2004-04-20    Yogyakarta  Daerah Istimewa Yogyakarta   55584.0   \n9    2002-12-27      Semarang                 Jawa Tengah       NaN   \n\n   Jumlah pesanan Jeruk :  Jumlah pesanan Salak:  Jumlah pesanan Rambutan:  \\\n0                    0.00                    0.0                       7.0   \n1                    1.00                    0.0                       0.0   \n2                    1.00                    0.0                       0.0   \n3                    0.00                   23.0                       4.0   \n4                    0.00                    0.0                   10000.0   \n5                    2.00                    3.0                       4.0   \n6                    2.00                    4.0                       1.0   \n7                  100.00                   75.0                      20.0   \n8                    3.00                   10.0                       7.0   \n9                    9.11                    3.0                       9.6   \n\n   Jumlah pesanan Kelengkeng :  Jumlah pesanan Blimbing :  Harga Total  \n0                          0.0                       0.00          NaN  \n1                         10.0                       0.00     140000.0  \n2                          0.0                       0.00      10000.0  \n3                          0.0                      12.00     629000.0  \n4                          0.0                       0.00  200000000.0  \n5                          5.0                       0.00     210000.0  \n6                          2.0                       3.00     177000.0  \n7                         50.0                      34.00    3753000.0  \n8                          2.0                       4.00     414000.0  \n9                          4.2                       9.11     537570.0  ",
      "text/html": "<div>\n<style scoped>\n    .dataframe tbody tr th:only-of-type {\n        vertical-align: middle;\n    }\n\n    .dataframe tbody tr th {\n        vertical-align: top;\n    }\n\n    .dataframe thead th {\n        text-align: right;\n    }\n</style>\n<table border=\"1\" class=\"dataframe\">\n  <thead>\n    <tr style=\"text-align: right;\">\n      <th></th>\n      <th>Timestamp</th>\n      <th>Nama</th>\n      <th>NIM</th>\n      <th>Jenis Kelamin</th>\n      <th>Tanggal Lahir</th>\n      <th>Kota</th>\n      <th>Provinsi</th>\n      <th>Kode POS</th>\n      <th>Jumlah pesanan Jeruk :</th>\n      <th>Jumlah pesanan Salak:</th>\n      <th>Jumlah pesanan Rambutan:</th>\n      <th>Jumlah pesanan Kelengkeng :</th>\n      <th>Jumlah pesanan Blimbing :</th>\n      <th>Harga Total</th>\n    </tr>\n  </thead>\n  <tbody>\n    <tr>\n      <th>0</th>\n      <td>2023/09/06 11:51:23 AM GMT+7</td>\n      <td>R</td>\n      <td>1</td>\n      <td>Pria</td>\n      <td>2023-09-07</td>\n      <td>s</td>\n      <td>d</td>\n      <td>1.0</td>\n      <td>0.00</td>\n      <td>0.0</td>\n      <td>7.0</td>\n      <td>0.0</td>\n      <td>0.00</td>\n      <td>NaN</td>\n    </tr>\n    <tr>\n      <th>1</th>\n      <td>2023/09/06 11:53:20 AM GMT+7</td>\n      <td>R</td>\n      <td>1</td>\n      <td>Wanita</td>\n      <td>2023-09-07</td>\n      <td>s</td>\n      <td>s</td>\n      <td>1.0</td>\n      <td>1.00</td>\n      <td>0.0</td>\n      <td>0.0</td>\n      <td>10.0</td>\n      <td>0.00</td>\n      <td>140000.0</td>\n    </tr>\n    <tr>\n      <th>2</th>\n      <td>2023/09/06 11:56:47 AM GMT+7</td>\n      <td>Heksaloga</td>\n      <td>215314212</td>\n      <td>Pria</td>\n      <td>2023-09-06</td>\n      <td>Bantul</td>\n      <td>DI Yogyakarta</td>\n      <td>55791.0</td>\n      <td>1.00</td>\n      <td>0.0</td>\n      <td>0.0</td>\n      <td>0.0</td>\n      <td>0.00</td>\n      <td>10000.0</td>\n    </tr>\n    <tr>\n      <th>3</th>\n      <td>2023/09/06 11:58:36 AM GMT+7</td>\n      <td>unknown</td>\n      <td>0</td>\n      <td>Wanita</td>\n      <td>2023-09-09</td>\n      <td>Yogja</td>\n      <td>we</td>\n      <td>42441.0</td>\n      <td>0.00</td>\n      <td>23.0</td>\n      <td>4.0</td>\n      <td>0.0</td>\n      <td>12.00</td>\n      <td>629000.0</td>\n    </tr>\n    <tr>\n      <th>4</th>\n      <td>2023/09/06 12:07:04 PM GMT+7</td>\n      <td>R</td>\n      <td>1</td>\n      <td>Pria</td>\n      <td>2023-10-27</td>\n      <td>s</td>\n      <td>d</td>\n      <td>1.0</td>\n      <td>0.00</td>\n      <td>0.0</td>\n      <td>10000.0</td>\n      <td>0.0</td>\n      <td>0.00</td>\n      <td>200000000.0</td>\n    </tr>\n    <tr>\n      <th>5</th>\n      <td>2023/09/06 12:08:10 PM GMT+7</td>\n      <td>Rahul</td>\n      <td>215151515</td>\n      <td>Wanita</td>\n      <td>2025-03-01</td>\n      <td>Penisvanilla</td>\n      <td>West Virginia</td>\n      <td>69420.0</td>\n      <td>2.00</td>\n      <td>3.0</td>\n      <td>4.0</td>\n      <td>5.0</td>\n      <td>0.00</td>\n      <td>210000.0</td>\n    </tr>\n    <tr>\n      <th>6</th>\n      <td>2023/09/06 1:04:58 PM GMT+7</td>\n      <td>Wenda</td>\n      <td>215314190</td>\n      <td>Wanita</td>\n      <td>2006-09-14</td>\n      <td>Medan</td>\n      <td>Sumatra utara</td>\n      <td>227323.0</td>\n      <td>2.00</td>\n      <td>4.0</td>\n      <td>1.0</td>\n      <td>2.0</td>\n      <td>3.00</td>\n      <td>177000.0</td>\n    </tr>\n    <tr>\n      <th>7</th>\n      <td>2023/09/07 7:54:39 PM GMT+7</td>\n      <td>Giacinta</td>\n      <td>215314211</td>\n      <td>Wanita</td>\n      <td>2003-06-22</td>\n      <td>Yogyakarta</td>\n      <td>Daerah Istimewa Yogyakarta</td>\n      <td>55563.0</td>\n      <td>100.00</td>\n      <td>75.0</td>\n      <td>20.0</td>\n      <td>50.0</td>\n      <td>34.00</td>\n      <td>3753000.0</td>\n    </tr>\n    <tr>\n      <th>8</th>\n      <td>2023/09/11 11:32:00 AM GMT+7</td>\n      <td>Prischia Ballo</td>\n      <td>215314166</td>\n      <td>Wanita</td>\n      <td>2004-04-20</td>\n      <td>Yogyakarta</td>\n      <td>Daerah Istimewa Yogyakarta</td>\n      <td>55584.0</td>\n      <td>3.00</td>\n      <td>10.0</td>\n      <td>7.0</td>\n      <td>2.0</td>\n      <td>4.00</td>\n      <td>414000.0</td>\n    </tr>\n    <tr>\n      <th>9</th>\n      <td>2023/09/11 11:33:03 AM GMT+7</td>\n      <td>Adrianus</td>\n      <td>13040221130064</td>\n      <td>Pria</td>\n      <td>2002-12-27</td>\n      <td>Semarang</td>\n      <td>Jawa Tengah</td>\n      <td>NaN</td>\n      <td>9.11</td>\n      <td>3.0</td>\n      <td>9.6</td>\n      <td>4.2</td>\n      <td>9.11</td>\n      <td>537570.0</td>\n    </tr>\n  </tbody>\n</table>\n</div>"
     },
     "execution_count": 21,
     "metadata": {},
     "output_type": "execute_result"
    }
   ],
   "source": [
    "# Replace negative values in \"Jumlah\" columns with 0\n",
    "jumlah_columns = [\n",
    "    'Jumlah pesanan Jeruk :',\n",
    "    'Jumlah pesanan Salak:',\n",
    "    'Jumlah pesanan Rambutan:',\n",
    "    'Jumlah pesanan Kelengkeng :',\n",
    "    'Jumlah pesanan Blimbing :'\n",
    "]\n",
    "\n",
    "# Remove extra spaces and special characters from column names\n",
    "df.columns = df.columns.str.strip()  # Remove leading/trailing spaces\n",
    "\n",
    "for col in jumlah_columns:\n",
    "    col = col.strip()  # Remove leading/trailing spaces from column name\n",
    "    df[col] = df[col].apply(lambda x: max(x, 0))\n",
    "\n",
    "# Replace NaN values in \"Jumlah\" columns with 0\n",
    "df[jumlah_columns] = df[jumlah_columns].fillna(0)\n",
    "\n",
    "# Drop rows with NaN values in \"Harga Total\" column\n",
    "df.dropna(subset=['Harga Total'], inplace=True)\n",
    "\n",
    "df.head(10)"
   ],
   "metadata": {
    "collapsed": false,
    "ExecuteTime": {
     "end_time": "2023-09-12T16:10:45.455198200Z",
     "start_time": "2023-09-12T16:10:45.373071100Z"
    }
   },
   "id": "2b694909c1dbd8a9"
  },
  {
   "cell_type": "code",
   "execution_count": 22,
   "outputs": [
    {
     "data": {
      "text/plain": "                       Timestamp            Nama          NIM Jenis Kelamin  \\\n2   2023/09/06 11:56:47 AM GMT+7       Heksaloga  215314212.0          Pria   \n6    2023/09/06 1:04:58 PM GMT+7          Wenda   215314190.0        Wanita   \n7    2023/09/07 7:54:39 PM GMT+7        Giacinta  215314211.0        Wanita   \n8   2023/09/11 11:32:00 AM GMT+7  Prischia Ballo  215314166.0        Wanita   \n10  2023/09/11 11:48:40 AM GMT+7         Annaya   215314412.0        Wanita   \n\n   Tanggal Lahir         Kota                    Provinsi  Kode POS  \\\n2     2023-09-06       Bantul               DI Yogyakarta   55791.0   \n6     2006-09-14       Medan               Sumatra utara   227323.0   \n7     2003-06-22   Yogyakarta  Daerah Istimewa Yogyakarta   55563.0   \n8     2004-04-20   Yogyakarta  Daerah Istimewa Yogyakarta   55584.0   \n10    2003-01-04  Kab. Serang                      Banten   42182.0   \n\n    Jumlah pesanan Jeruk :  Jumlah pesanan Salak:  Jumlah pesanan Rambutan:  \\\n2                      1.0                    0.0                       0.0   \n6                      2.0                    4.0                       1.0   \n7                    100.0                   75.0                      20.0   \n8                      3.0                   10.0                       7.0   \n10                     5.0                    1.0                       2.0   \n\n    Jumlah pesanan Kelengkeng :  Jumlah pesanan Blimbing :  Harga Total  \n2                           0.0                        0.0      10000.0  \n6                           2.0                        3.0     177000.0  \n7                          50.0                       34.0    3753000.0  \n8                           2.0                        4.0     414000.0  \n10                          3.0                        0.0     144000.0  ",
      "text/html": "<div>\n<style scoped>\n    .dataframe tbody tr th:only-of-type {\n        vertical-align: middle;\n    }\n\n    .dataframe tbody tr th {\n        vertical-align: top;\n    }\n\n    .dataframe thead th {\n        text-align: right;\n    }\n</style>\n<table border=\"1\" class=\"dataframe\">\n  <thead>\n    <tr style=\"text-align: right;\">\n      <th></th>\n      <th>Timestamp</th>\n      <th>Nama</th>\n      <th>NIM</th>\n      <th>Jenis Kelamin</th>\n      <th>Tanggal Lahir</th>\n      <th>Kota</th>\n      <th>Provinsi</th>\n      <th>Kode POS</th>\n      <th>Jumlah pesanan Jeruk :</th>\n      <th>Jumlah pesanan Salak:</th>\n      <th>Jumlah pesanan Rambutan:</th>\n      <th>Jumlah pesanan Kelengkeng :</th>\n      <th>Jumlah pesanan Blimbing :</th>\n      <th>Harga Total</th>\n    </tr>\n  </thead>\n  <tbody>\n    <tr>\n      <th>2</th>\n      <td>2023/09/06 11:56:47 AM GMT+7</td>\n      <td>Heksaloga</td>\n      <td>215314212.0</td>\n      <td>Pria</td>\n      <td>2023-09-06</td>\n      <td>Bantul</td>\n      <td>DI Yogyakarta</td>\n      <td>55791.0</td>\n      <td>1.0</td>\n      <td>0.0</td>\n      <td>0.0</td>\n      <td>0.0</td>\n      <td>0.0</td>\n      <td>10000.0</td>\n    </tr>\n    <tr>\n      <th>6</th>\n      <td>2023/09/06 1:04:58 PM GMT+7</td>\n      <td>Wenda</td>\n      <td>215314190.0</td>\n      <td>Wanita</td>\n      <td>2006-09-14</td>\n      <td>Medan</td>\n      <td>Sumatra utara</td>\n      <td>227323.0</td>\n      <td>2.0</td>\n      <td>4.0</td>\n      <td>1.0</td>\n      <td>2.0</td>\n      <td>3.0</td>\n      <td>177000.0</td>\n    </tr>\n    <tr>\n      <th>7</th>\n      <td>2023/09/07 7:54:39 PM GMT+7</td>\n      <td>Giacinta</td>\n      <td>215314211.0</td>\n      <td>Wanita</td>\n      <td>2003-06-22</td>\n      <td>Yogyakarta</td>\n      <td>Daerah Istimewa Yogyakarta</td>\n      <td>55563.0</td>\n      <td>100.0</td>\n      <td>75.0</td>\n      <td>20.0</td>\n      <td>50.0</td>\n      <td>34.0</td>\n      <td>3753000.0</td>\n    </tr>\n    <tr>\n      <th>8</th>\n      <td>2023/09/11 11:32:00 AM GMT+7</td>\n      <td>Prischia Ballo</td>\n      <td>215314166.0</td>\n      <td>Wanita</td>\n      <td>2004-04-20</td>\n      <td>Yogyakarta</td>\n      <td>Daerah Istimewa Yogyakarta</td>\n      <td>55584.0</td>\n      <td>3.0</td>\n      <td>10.0</td>\n      <td>7.0</td>\n      <td>2.0</td>\n      <td>4.0</td>\n      <td>414000.0</td>\n    </tr>\n    <tr>\n      <th>10</th>\n      <td>2023/09/11 11:48:40 AM GMT+7</td>\n      <td>Annaya</td>\n      <td>215314412.0</td>\n      <td>Wanita</td>\n      <td>2003-01-04</td>\n      <td>Kab. Serang</td>\n      <td>Banten</td>\n      <td>42182.0</td>\n      <td>5.0</td>\n      <td>1.0</td>\n      <td>2.0</td>\n      <td>3.0</td>\n      <td>0.0</td>\n      <td>144000.0</td>\n    </tr>\n  </tbody>\n</table>\n</div>"
     },
     "execution_count": 22,
     "metadata": {},
     "output_type": "execute_result"
    }
   ],
   "source": [
    "# Replace NIM values with less than 9 numbers with a placeholder (e.g., 'INVALID')\n",
    "df['NIM'] = df['NIM'].apply(lambda x: x if x>215314000 and x<215314999 else '-9999')\n",
    "# Replace -9999 values with NaN in the entire DataFrame\n",
    "df.replace(-9999, np.nan, inplace=True)\n",
    "df.dropna(subset=['NIM'], inplace=True)\n",
    "df.head(10)\n"
   ],
   "metadata": {
    "collapsed": false,
    "ExecuteTime": {
     "end_time": "2023-09-12T16:10:45.456162500Z",
     "start_time": "2023-09-12T16:10:45.403915100Z"
    }
   },
   "id": "360cedb735a3b05c"
  },
  {
   "cell_type": "code",
   "execution_count": 23,
   "outputs": [
    {
     "data": {
      "text/plain": "                       Timestamp            Nama          NIM Jenis Kelamin  \\\n2   2023/09/06 11:56:47 AM GMT+7       Heksaloga  215314212.0          Pria   \n6    2023/09/06 1:04:58 PM GMT+7          Wenda   215314190.0        Wanita   \n7    2023/09/07 7:54:39 PM GMT+7        Giacinta  215314211.0        Wanita   \n8   2023/09/11 11:32:00 AM GMT+7  Prischia Ballo  215314166.0        Wanita   \n10  2023/09/11 11:48:40 AM GMT+7         Annaya   215314412.0        Wanita   \n\n   Tanggal Lahir         Kota                    Provinsi  Kode POS  \\\n2     2023-09-06       Bantul               DI Yogyakarta   55791.0   \n6     2006-09-14       Medan               Sumatra utara   227323.0   \n7     2003-06-22   Yogyakarta  Daerah Istimewa Yogyakarta   55563.0   \n8     2004-04-20   Yogyakarta  Daerah Istimewa Yogyakarta   55584.0   \n10    2003-01-04  Kab. Serang                      Banten   42182.0   \n\n    Jumlah pesanan Jeruk :  Jumlah pesanan Salak:  Jumlah pesanan Rambutan:  \\\n2                 1.000000                   1.00                      1.00   \n6                 1.090909                   1.48                      1.45   \n7                10.000000                  10.00                     10.00   \n8                 1.181818                   2.20                      4.15   \n10                1.363636                   1.12                      1.90   \n\n    Jumlah pesanan Kelengkeng :  Jumlah pesanan Blimbing :  Harga Total  \n2                          1.00                   1.000000     1.000000  \n6                          1.36                   1.794118     1.401550  \n7                         10.00                  10.000000    10.000000  \n8                          1.36                   2.058824     1.971413  \n10                         1.54                   1.000000     1.322201  ",
      "text/html": "<div>\n<style scoped>\n    .dataframe tbody tr th:only-of-type {\n        vertical-align: middle;\n    }\n\n    .dataframe tbody tr th {\n        vertical-align: top;\n    }\n\n    .dataframe thead th {\n        text-align: right;\n    }\n</style>\n<table border=\"1\" class=\"dataframe\">\n  <thead>\n    <tr style=\"text-align: right;\">\n      <th></th>\n      <th>Timestamp</th>\n      <th>Nama</th>\n      <th>NIM</th>\n      <th>Jenis Kelamin</th>\n      <th>Tanggal Lahir</th>\n      <th>Kota</th>\n      <th>Provinsi</th>\n      <th>Kode POS</th>\n      <th>Jumlah pesanan Jeruk :</th>\n      <th>Jumlah pesanan Salak:</th>\n      <th>Jumlah pesanan Rambutan:</th>\n      <th>Jumlah pesanan Kelengkeng :</th>\n      <th>Jumlah pesanan Blimbing :</th>\n      <th>Harga Total</th>\n    </tr>\n  </thead>\n  <tbody>\n    <tr>\n      <th>2</th>\n      <td>2023/09/06 11:56:47 AM GMT+7</td>\n      <td>Heksaloga</td>\n      <td>215314212.0</td>\n      <td>Pria</td>\n      <td>2023-09-06</td>\n      <td>Bantul</td>\n      <td>DI Yogyakarta</td>\n      <td>55791.0</td>\n      <td>1.000000</td>\n      <td>1.00</td>\n      <td>1.00</td>\n      <td>1.00</td>\n      <td>1.000000</td>\n      <td>1.000000</td>\n    </tr>\n    <tr>\n      <th>6</th>\n      <td>2023/09/06 1:04:58 PM GMT+7</td>\n      <td>Wenda</td>\n      <td>215314190.0</td>\n      <td>Wanita</td>\n      <td>2006-09-14</td>\n      <td>Medan</td>\n      <td>Sumatra utara</td>\n      <td>227323.0</td>\n      <td>1.090909</td>\n      <td>1.48</td>\n      <td>1.45</td>\n      <td>1.36</td>\n      <td>1.794118</td>\n      <td>1.401550</td>\n    </tr>\n    <tr>\n      <th>7</th>\n      <td>2023/09/07 7:54:39 PM GMT+7</td>\n      <td>Giacinta</td>\n      <td>215314211.0</td>\n      <td>Wanita</td>\n      <td>2003-06-22</td>\n      <td>Yogyakarta</td>\n      <td>Daerah Istimewa Yogyakarta</td>\n      <td>55563.0</td>\n      <td>10.000000</td>\n      <td>10.00</td>\n      <td>10.00</td>\n      <td>10.00</td>\n      <td>10.000000</td>\n      <td>10.000000</td>\n    </tr>\n    <tr>\n      <th>8</th>\n      <td>2023/09/11 11:32:00 AM GMT+7</td>\n      <td>Prischia Ballo</td>\n      <td>215314166.0</td>\n      <td>Wanita</td>\n      <td>2004-04-20</td>\n      <td>Yogyakarta</td>\n      <td>Daerah Istimewa Yogyakarta</td>\n      <td>55584.0</td>\n      <td>1.181818</td>\n      <td>2.20</td>\n      <td>4.15</td>\n      <td>1.36</td>\n      <td>2.058824</td>\n      <td>1.971413</td>\n    </tr>\n    <tr>\n      <th>10</th>\n      <td>2023/09/11 11:48:40 AM GMT+7</td>\n      <td>Annaya</td>\n      <td>215314412.0</td>\n      <td>Wanita</td>\n      <td>2003-01-04</td>\n      <td>Kab. Serang</td>\n      <td>Banten</td>\n      <td>42182.0</td>\n      <td>1.363636</td>\n      <td>1.12</td>\n      <td>1.90</td>\n      <td>1.54</td>\n      <td>1.000000</td>\n      <td>1.322201</td>\n    </tr>\n  </tbody>\n</table>\n</div>"
     },
     "execution_count": 23,
     "metadata": {},
     "output_type": "execute_result"
    }
   ],
   "source": [
    "df2 = df.copy()\n",
    "min_harga_total = df2['Harga Total'].min()\n",
    "max_harga_total = df2['Harga Total'].max()\n",
    "df2['Harga Total'] = (df2['Harga Total'] - min_harga_total) / (max_harga_total - min_harga_total)\n",
    "\n",
    "# Perform min-max normalization on \"Jumlah\" columns\n",
    "for col in jumlah_columns:\n",
    "    min_val = df2[col].min()\n",
    "    max_val = df2[col].max()\n",
    "    df2[col] = (df2[col] - min_val) / (max_val - min_val)\n",
    "\n",
    "# Save the cleaned and normalized DataFrame to a new CSV file\n",
    "df2.to_csv('minMaxNormalized_data.csv', index=False)\n",
    "df2.head(10)"
   ],
   "metadata": {
    "collapsed": false,
    "ExecuteTime": {
     "end_time": "2023-09-12T16:10:45.527957600Z",
     "start_time": "2023-09-12T16:10:45.437757900Z"
    }
   },
   "id": "83f40e71e88931c"
  },
  {
   "cell_type": "code",
   "execution_count": 25,
   "outputs": [
    {
     "data": {
      "text/plain": "                       Timestamp            Nama          NIM Jenis Kelamin  \\\n2   2023/09/06 11:56:47 AM GMT+7       Heksaloga  215314212.0          Pria   \n6    2023/09/06 1:04:58 PM GMT+7          Wenda   215314190.0        Wanita   \n7    2023/09/07 7:54:39 PM GMT+7        Giacinta  215314211.0        Wanita   \n8   2023/09/11 11:32:00 AM GMT+7  Prischia Ballo  215314166.0        Wanita   \n10  2023/09/11 11:48:40 AM GMT+7         Annaya   215314412.0        Wanita   \n\n   Tanggal Lahir         Kota                    Provinsi  Kode POS  \\\n2     2023-09-06       Bantul               DI Yogyakarta   55791.0   \n6     2006-09-14       Medan               Sumatra utara   227323.0   \n7     2003-06-22   Yogyakarta  Daerah Istimewa Yogyakarta   55563.0   \n8     2004-04-20   Yogyakarta  Daerah Istimewa Yogyakarta   55584.0   \n10    2003-01-04  Kab. Serang                      Banten   42182.0   \n\n    Jumlah pesanan Jeruk :  Jumlah pesanan Salak:  Jumlah pesanan Rambutan:  \\\n2                -0.487170              -0.560723                 -0.724947   \n6                -0.464190              -0.436118                 -0.604122   \n7                 1.787821               1.775623                  1.691542   \n8                -0.441210              -0.249210                  0.120824   \n10               -0.395251              -0.529572                 -0.483298   \n\n    Jumlah pesanan Kelengkeng :  Jumlah pesanan Blimbing :  Harga Total  \n2                     -0.527642                  -0.564244    -0.555399  \n6                     -0.435073                  -0.357813    -0.451137  \n7                      1.786578                   1.775304     1.781448  \n8                     -0.435073                  -0.289003    -0.303172  \n10                    -0.388789                  -0.564244    -0.471740  ",
      "text/html": "<div>\n<style scoped>\n    .dataframe tbody tr th:only-of-type {\n        vertical-align: middle;\n    }\n\n    .dataframe tbody tr th {\n        vertical-align: top;\n    }\n\n    .dataframe thead th {\n        text-align: right;\n    }\n</style>\n<table border=\"1\" class=\"dataframe\">\n  <thead>\n    <tr style=\"text-align: right;\">\n      <th></th>\n      <th>Timestamp</th>\n      <th>Nama</th>\n      <th>NIM</th>\n      <th>Jenis Kelamin</th>\n      <th>Tanggal Lahir</th>\n      <th>Kota</th>\n      <th>Provinsi</th>\n      <th>Kode POS</th>\n      <th>Jumlah pesanan Jeruk :</th>\n      <th>Jumlah pesanan Salak:</th>\n      <th>Jumlah pesanan Rambutan:</th>\n      <th>Jumlah pesanan Kelengkeng :</th>\n      <th>Jumlah pesanan Blimbing :</th>\n      <th>Harga Total</th>\n    </tr>\n  </thead>\n  <tbody>\n    <tr>\n      <th>2</th>\n      <td>2023/09/06 11:56:47 AM GMT+7</td>\n      <td>Heksaloga</td>\n      <td>215314212.0</td>\n      <td>Pria</td>\n      <td>2023-09-06</td>\n      <td>Bantul</td>\n      <td>DI Yogyakarta</td>\n      <td>55791.0</td>\n      <td>-0.487170</td>\n      <td>-0.560723</td>\n      <td>-0.724947</td>\n      <td>-0.527642</td>\n      <td>-0.564244</td>\n      <td>-0.555399</td>\n    </tr>\n    <tr>\n      <th>6</th>\n      <td>2023/09/06 1:04:58 PM GMT+7</td>\n      <td>Wenda</td>\n      <td>215314190.0</td>\n      <td>Wanita</td>\n      <td>2006-09-14</td>\n      <td>Medan</td>\n      <td>Sumatra utara</td>\n      <td>227323.0</td>\n      <td>-0.464190</td>\n      <td>-0.436118</td>\n      <td>-0.604122</td>\n      <td>-0.435073</td>\n      <td>-0.357813</td>\n      <td>-0.451137</td>\n    </tr>\n    <tr>\n      <th>7</th>\n      <td>2023/09/07 7:54:39 PM GMT+7</td>\n      <td>Giacinta</td>\n      <td>215314211.0</td>\n      <td>Wanita</td>\n      <td>2003-06-22</td>\n      <td>Yogyakarta</td>\n      <td>Daerah Istimewa Yogyakarta</td>\n      <td>55563.0</td>\n      <td>1.787821</td>\n      <td>1.775623</td>\n      <td>1.691542</td>\n      <td>1.786578</td>\n      <td>1.775304</td>\n      <td>1.781448</td>\n    </tr>\n    <tr>\n      <th>8</th>\n      <td>2023/09/11 11:32:00 AM GMT+7</td>\n      <td>Prischia Ballo</td>\n      <td>215314166.0</td>\n      <td>Wanita</td>\n      <td>2004-04-20</td>\n      <td>Yogyakarta</td>\n      <td>Daerah Istimewa Yogyakarta</td>\n      <td>55584.0</td>\n      <td>-0.441210</td>\n      <td>-0.249210</td>\n      <td>0.120824</td>\n      <td>-0.435073</td>\n      <td>-0.289003</td>\n      <td>-0.303172</td>\n    </tr>\n    <tr>\n      <th>10</th>\n      <td>2023/09/11 11:48:40 AM GMT+7</td>\n      <td>Annaya</td>\n      <td>215314412.0</td>\n      <td>Wanita</td>\n      <td>2003-01-04</td>\n      <td>Kab. Serang</td>\n      <td>Banten</td>\n      <td>42182.0</td>\n      <td>-0.395251</td>\n      <td>-0.529572</td>\n      <td>-0.483298</td>\n      <td>-0.388789</td>\n      <td>-0.564244</td>\n      <td>-0.471740</td>\n    </tr>\n  </tbody>\n</table>\n</div>"
     },
     "execution_count": 25,
     "metadata": {},
     "output_type": "execute_result"
    }
   ],
   "source": [
    "df3 = df.copy()\n",
    "# Z-score normalization on \"Harga Total\" column\n",
    "mean_harga_total = df3['Harga Total'].mean()\n",
    "std_harga_total = df3['Harga Total'].std()\n",
    "df3['Harga Total'] = (df3['Harga Total'] - mean_harga_total) / std_harga_total\n",
    "\n",
    "# Z-score normalization on \"Jumlah\" columns\n",
    "for col in jumlah_columns:\n",
    "    mean_val = df3[col].mean()\n",
    "    std_val = df3[col].std()\n",
    "    df3[col] = (df3[col] - mean_val) / std_val\n",
    "\n",
    "# Save the cleaned and normalized DataFrame to a new CSV file\n",
    "df3.to_csv('zScoreNormalized_data.csv', index=False)\n",
    "df3.head(10)"
   ],
   "metadata": {
    "collapsed": false,
    "ExecuteTime": {
     "end_time": "2023-09-12T16:12:44.588322300Z",
     "start_time": "2023-09-12T16:12:44.566297Z"
    }
   },
   "id": "571d69e596d3ceae"
  }
 ],
 "metadata": {
  "kernelspec": {
   "display_name": "Python 3",
   "language": "python",
   "name": "python3"
  },
  "language_info": {
   "codemirror_mode": {
    "name": "ipython",
    "version": 2
   },
   "file_extension": ".py",
   "mimetype": "text/x-python",
   "name": "python",
   "nbconvert_exporter": "python",
   "pygments_lexer": "ipython2",
   "version": "2.7.6"
  }
 },
 "nbformat": 4,
 "nbformat_minor": 5
}
